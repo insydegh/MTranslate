{
  "nbformat": 4,
  "nbformat_minor": 0,
  "metadata": {
    "kernelspec": {
      "display_name": "Python 3",
      "language": "python",
      "name": "python3"
    },
    "language_info": {
      "codemirror_mode": {
        "name": "ipython",
        "version": 3
      },
      "file_extension": ".py",
      "mimetype": "text/x-python",
      "name": "python",
      "nbconvert_exporter": "python",
      "pygments_lexer": "ipython3",
      "version": "3.7.1"
    },
    "colab": {
      "name": "word2vec_api.ipynb",
      "provenance": []
    }
  },
  "cells": [
    {
      "cell_type": "code",
      "metadata": {
        "id": "H0u5H-dN__Fo"
      },
      "source": [
        "%matplotlib inline"
      ],
      "execution_count": 1,
      "outputs": []
    },
    {
      "cell_type": "markdown",
      "metadata": {
        "id": "Fd4QbmMX__Fx"
      },
      "source": [
        "\n",
        "How to download pre-trained models and corpora\n",
        "==============================================\n",
        "\n",
        "Demonstrates simple and quick access to common corpora, models, and other data.\n"
      ]
    },
    {
      "cell_type": "code",
      "metadata": {
        "id": "OXu98iCu__Fy"
      },
      "source": [
        "import logging\n",
        "logging.basicConfig(format='%(asctime)s : %(levelname)s : %(message)s', level=logging.INFO)"
      ],
      "execution_count": 2,
      "outputs": []
    },
    {
      "cell_type": "markdown",
      "metadata": {
        "id": "1kfMMNPj__F7"
      },
      "source": [
        "One of Gensim's features is simple and easy access to some common data.\n",
        "The `gensim-data <https://github.com/RaRe-Technologies/gensim-data>`_ project stores a variety of corpora, models and other data.\n",
        "Gensim has a :py:mod:`gensim.downloader` module for programmatically accessing this data.\n",
        "The module leverages a local cache that ensures data is downloaded at most once.\n",
        "\n",
        "This tutorial:\n",
        "\n",
        "* Retrieves the text8 corpus, unless it is already on your local machine\n",
        "* Trains a Word2Vec model from the corpus (see `sphx_glr_auto_examples_tutorials_run_doc2vec_lee.py` for a detailed tutorial)\n",
        "* Leverages the model to calculate word similarity\n",
        "* Demonstrates using the API to load other models and corpora\n",
        "\n",
        "Let's start by importing the api module.\n",
        "\n",
        "\n"
      ]
    },
    {
      "cell_type": "code",
      "metadata": {
        "id": "wxY2RmCC__F-",
        "outputId": "be0c5559-26c7-4bd5-8f67-3d72fb05f1f5",
        "colab": {
          "base_uri": "https://localhost:8080/",
          "height": 34
        }
      },
      "source": [
        "import gensim.downloader as api"
      ],
      "execution_count": 3,
      "outputs": [
        {
          "output_type": "stream",
          "text": [
            "2020-10-06 13:02:00,760 : INFO : 'pattern' package not found; tag filters are not available for English\n"
          ],
          "name": "stderr"
        }
      ]
    },
    {
      "cell_type": "markdown",
      "metadata": {
        "id": "j9nvpQpp__GD"
      },
      "source": [
        "Now, lets download the text8 corpus and load it to memory (automatically)\n",
        "\n",
        "\n"
      ]
    },
    {
      "cell_type": "code",
      "metadata": {
        "id": "ohBfVQp1__GE",
        "outputId": "0202d3aa-cf84-43ad-957c-eeb7af96e37b",
        "colab": {
          "base_uri": "https://localhost:8080/",
          "height": 67
        }
      },
      "source": [
        "corpus = api.load('text8')"
      ],
      "execution_count": 4,
      "outputs": [
        {
          "output_type": "stream",
          "text": [
            "2020-10-06 13:02:00,780 : INFO : Creating /root/gensim-data\n"
          ],
          "name": "stderr"
        },
        {
          "output_type": "stream",
          "text": [
            "[==================================================] 100.0% 31.6/31.6MB downloaded\n"
          ],
          "name": "stdout"
        },
        {
          "output_type": "stream",
          "text": [
            "2020-10-06 13:02:06,498 : INFO : text8 downloaded\n"
          ],
          "name": "stderr"
        }
      ]
    },
    {
      "cell_type": "markdown",
      "metadata": {
        "id": "aipW2Lqr__GI"
      },
      "source": [
        "In this case, corpus is an iterable.\n",
        "If you look under the covers, it has the following definition:\n",
        "\n"
      ]
    },
    {
      "cell_type": "code",
      "metadata": {
        "id": "UVZ022fj__GJ",
        "outputId": "0bd2f838-1401-4a04-be2f-0b9f7d37a983",
        "colab": {
          "base_uri": "https://localhost:8080/",
          "height": 168
        }
      },
      "source": [
        "import inspect\n",
        "print(inspect.getsource(corpus.__class__))"
      ],
      "execution_count": 5,
      "outputs": [
        {
          "output_type": "stream",
          "text": [
            "class Dataset(object):\n",
            "    def __init__(self, fn):\n",
            "        self.fn = fn\n",
            "\n",
            "    def __iter__(self):\n",
            "        corpus = Text8Corpus(self.fn)\n",
            "        for doc in corpus:\n",
            "            yield doc\n",
            "\n"
          ],
          "name": "stdout"
        }
      ]
    },
    {
      "cell_type": "markdown",
      "metadata": {
        "id": "HaAgNfVy__GP"
      },
      "source": [
        "For more details, look inside the file that defines the Dataset class for your particular resource.\n",
        "\n",
        "\n"
      ]
    },
    {
      "cell_type": "code",
      "metadata": {
        "id": "sW2Gmxtu__GQ",
        "outputId": "c50b9b3f-11e3-493a-89c6-25c6aa1c5504",
        "colab": {
          "base_uri": "https://localhost:8080/",
          "height": 34
        }
      },
      "source": [
        "print(inspect.getfile(corpus.__class__))"
      ],
      "execution_count": 6,
      "outputs": [
        {
          "output_type": "stream",
          "text": [
            "/root/gensim-data/text8/__init__.py\n"
          ],
          "name": "stdout"
        }
      ]
    },
    {
      "cell_type": "markdown",
      "metadata": {
        "id": "mElwml36__GW"
      },
      "source": [
        "As the corpus has been downloaded and loaded, let's create a word2vec model of our corpus.\n",
        "\n",
        "\n"
      ]
    },
    {
      "cell_type": "code",
      "metadata": {
        "id": "rF2aJNv5__GX",
        "outputId": "e1a8bcdc-3ca9-4c6a-f9eb-4830a75999a2",
        "colab": {
          "base_uri": "https://localhost:8080/",
          "height": 1000
        }
      },
      "source": [
        "from gensim.models.word2vec import Word2Vec\n",
        "model = Word2Vec(corpus)"
      ],
      "execution_count": 7,
      "outputs": [
        {
          "output_type": "stream",
          "text": [
            "2020-10-06 13:02:06,539 : INFO : collecting all words and their counts\n",
            "/usr/local/lib/python3.6/dist-packages/smart_open/smart_open_lib.py:252: UserWarning: This function is deprecated, use smart_open.open instead. See the migration notes for details: https://github.com/RaRe-Technologies/smart_open/blob/master/README.rst#migrating-to-the-new-open-function\n",
            "  'See the migration notes for details: %s' % _MIGRATION_NOTES_URL\n",
            "2020-10-06 13:02:06,549 : INFO : PROGRESS: at sentence #0, processed 0 words, keeping 0 word types\n",
            "2020-10-06 13:02:13,353 : INFO : collected 253854 word types from a corpus of 17005207 raw words and 1701 sentences\n",
            "2020-10-06 13:02:13,354 : INFO : Loading a fresh vocabulary\n",
            "2020-10-06 13:02:13,566 : INFO : effective_min_count=5 retains 71290 unique words (28% of original 253854, drops 182564)\n",
            "2020-10-06 13:02:13,567 : INFO : effective_min_count=5 leaves 16718844 word corpus (98% of original 17005207, drops 286363)\n",
            "2020-10-06 13:02:13,810 : INFO : deleting the raw counts dictionary of 253854 items\n",
            "2020-10-06 13:02:13,820 : INFO : sample=0.001 downsamples 38 most-common words\n",
            "2020-10-06 13:02:13,821 : INFO : downsampling leaves estimated 12506280 word corpus (74.8% of prior 16718844)\n",
            "2020-10-06 13:02:14,014 : INFO : estimated required memory for 71290 words and 100 dimensions: 92677000 bytes\n",
            "2020-10-06 13:02:14,014 : INFO : resetting layer weights\n",
            "2020-10-06 13:02:26,764 : INFO : training model with 3 workers on 71290 vocabulary and 100 features, using sg=0 hs=0 sample=0.001 negative=5 window=5\n",
            "2020-10-06 13:02:27,776 : INFO : EPOCH 1 - PROGRESS: at 5.17% examples, 641449 words/s, in_qsize 5, out_qsize 0\n",
            "2020-10-06 13:02:28,790 : INFO : EPOCH 1 - PROGRESS: at 10.46% examples, 642270 words/s, in_qsize 6, out_qsize 0\n",
            "2020-10-06 13:02:29,805 : INFO : EPOCH 1 - PROGRESS: at 15.70% examples, 642196 words/s, in_qsize 5, out_qsize 0\n",
            "2020-10-06 13:02:30,806 : INFO : EPOCH 1 - PROGRESS: at 20.81% examples, 641359 words/s, in_qsize 5, out_qsize 0\n",
            "2020-10-06 13:02:31,817 : INFO : EPOCH 1 - PROGRESS: at 26.10% examples, 645209 words/s, in_qsize 5, out_qsize 0\n",
            "2020-10-06 13:02:32,828 : INFO : EPOCH 1 - PROGRESS: at 31.16% examples, 643267 words/s, in_qsize 5, out_qsize 0\n",
            "2020-10-06 13:02:33,851 : INFO : EPOCH 1 - PROGRESS: at 36.39% examples, 644015 words/s, in_qsize 5, out_qsize 1\n",
            "2020-10-06 13:02:34,864 : INFO : EPOCH 1 - PROGRESS: at 41.56% examples, 643279 words/s, in_qsize 4, out_qsize 1\n",
            "2020-10-06 13:02:35,866 : INFO : EPOCH 1 - PROGRESS: at 46.85% examples, 645572 words/s, in_qsize 5, out_qsize 0\n",
            "2020-10-06 13:02:36,885 : INFO : EPOCH 1 - PROGRESS: at 52.09% examples, 645417 words/s, in_qsize 5, out_qsize 0\n",
            "2020-10-06 13:02:37,888 : INFO : EPOCH 1 - PROGRESS: at 57.38% examples, 647068 words/s, in_qsize 5, out_qsize 0\n",
            "2020-10-06 13:02:38,899 : INFO : EPOCH 1 - PROGRESS: at 62.61% examples, 647231 words/s, in_qsize 4, out_qsize 2\n",
            "2020-10-06 13:02:39,913 : INFO : EPOCH 1 - PROGRESS: at 67.78% examples, 646621 words/s, in_qsize 4, out_qsize 2\n",
            "2020-10-06 13:02:40,913 : INFO : EPOCH 1 - PROGRESS: at 73.02% examples, 647413 words/s, in_qsize 5, out_qsize 0\n",
            "2020-10-06 13:02:41,918 : INFO : EPOCH 1 - PROGRESS: at 78.13% examples, 645644 words/s, in_qsize 6, out_qsize 0\n",
            "2020-10-06 13:02:42,931 : INFO : EPOCH 1 - PROGRESS: at 83.42% examples, 645997 words/s, in_qsize 5, out_qsize 0\n",
            "2020-10-06 13:02:43,938 : INFO : EPOCH 1 - PROGRESS: at 88.71% examples, 646649 words/s, in_qsize 5, out_qsize 0\n",
            "2020-10-06 13:02:44,939 : INFO : EPOCH 1 - PROGRESS: at 93.89% examples, 646423 words/s, in_qsize 5, out_qsize 0\n",
            "2020-10-06 13:02:45,946 : INFO : EPOCH 1 - PROGRESS: at 99.06% examples, 646078 words/s, in_qsize 5, out_qsize 0\n",
            "2020-10-06 13:02:46,099 : INFO : worker thread finished; awaiting finish of 2 more threads\n",
            "2020-10-06 13:02:46,108 : INFO : worker thread finished; awaiting finish of 1 more threads\n",
            "2020-10-06 13:02:46,115 : INFO : worker thread finished; awaiting finish of 0 more threads\n",
            "2020-10-06 13:02:46,116 : INFO : EPOCH - 1 : training on 17005207 raw words (12506668 effective words) took 19.3s, 646401 effective words/s\n",
            "2020-10-06 13:02:47,124 : INFO : EPOCH 2 - PROGRESS: at 5.23% examples, 650547 words/s, in_qsize 4, out_qsize 0\n",
            "2020-10-06 13:02:48,131 : INFO : EPOCH 2 - PROGRESS: at 10.46% examples, 645450 words/s, in_qsize 5, out_qsize 0\n",
            "2020-10-06 13:02:49,132 : INFO : EPOCH 2 - PROGRESS: at 15.64% examples, 645001 words/s, in_qsize 6, out_qsize 0\n",
            "2020-10-06 13:02:50,138 : INFO : EPOCH 2 - PROGRESS: at 20.87% examples, 646430 words/s, in_qsize 5, out_qsize 0\n",
            "2020-10-06 13:02:51,143 : INFO : EPOCH 2 - PROGRESS: at 26.16% examples, 650126 words/s, in_qsize 5, out_qsize 0\n",
            "2020-10-06 13:02:52,153 : INFO : EPOCH 2 - PROGRESS: at 31.22% examples, 647513 words/s, in_qsize 5, out_qsize 0\n",
            "2020-10-06 13:02:53,172 : INFO : EPOCH 2 - PROGRESS: at 36.45% examples, 647852 words/s, in_qsize 5, out_qsize 0\n",
            "2020-10-06 13:02:54,182 : INFO : EPOCH 2 - PROGRESS: at 41.62% examples, 647005 words/s, in_qsize 6, out_qsize 0\n",
            "2020-10-06 13:02:55,185 : INFO : EPOCH 2 - PROGRESS: at 46.85% examples, 648035 words/s, in_qsize 6, out_qsize 0\n",
            "2020-10-06 13:02:56,188 : INFO : EPOCH 2 - PROGRESS: at 52.03% examples, 647796 words/s, in_qsize 5, out_qsize 0\n",
            "2020-10-06 13:02:57,202 : INFO : EPOCH 2 - PROGRESS: at 57.26% examples, 648245 words/s, in_qsize 5, out_qsize 0\n",
            "2020-10-06 13:02:58,209 : INFO : EPOCH 2 - PROGRESS: at 62.49% examples, 648254 words/s, in_qsize 5, out_qsize 0\n",
            "2020-10-06 13:02:59,209 : INFO : EPOCH 2 - PROGRESS: at 67.67% examples, 648226 words/s, in_qsize 5, out_qsize 0\n",
            "2020-10-06 13:03:00,214 : INFO : EPOCH 2 - PROGRESS: at 72.90% examples, 648701 words/s, in_qsize 5, out_qsize 0\n",
            "2020-10-06 13:03:01,223 : INFO : EPOCH 2 - PROGRESS: at 78.19% examples, 648086 words/s, in_qsize 5, out_qsize 0\n",
            "2020-10-06 13:03:02,235 : INFO : EPOCH 2 - PROGRESS: at 83.30% examples, 646963 words/s, in_qsize 5, out_qsize 0\n",
            "2020-10-06 13:03:03,245 : INFO : EPOCH 2 - PROGRESS: at 88.48% examples, 646587 words/s, in_qsize 5, out_qsize 0\n",
            "2020-10-06 13:03:04,264 : INFO : EPOCH 2 - PROGRESS: at 93.71% examples, 646142 words/s, in_qsize 4, out_qsize 1\n",
            "2020-10-06 13:03:05,279 : INFO : EPOCH 2 - PROGRESS: at 99.06% examples, 646672 words/s, in_qsize 5, out_qsize 0\n",
            "2020-10-06 13:03:05,430 : INFO : worker thread finished; awaiting finish of 2 more threads\n",
            "2020-10-06 13:03:05,436 : INFO : worker thread finished; awaiting finish of 1 more threads\n",
            "2020-10-06 13:03:05,443 : INFO : worker thread finished; awaiting finish of 0 more threads\n",
            "2020-10-06 13:03:05,443 : INFO : EPOCH - 2 : training on 17005207 raw words (12506178 effective words) took 19.3s, 647194 effective words/s\n",
            "2020-10-06 13:03:06,452 : INFO : EPOCH 3 - PROGRESS: at 5.23% examples, 649681 words/s, in_qsize 5, out_qsize 0\n",
            "2020-10-06 13:03:07,453 : INFO : EPOCH 3 - PROGRESS: at 10.52% examples, 650876 words/s, in_qsize 6, out_qsize 0\n",
            "2020-10-06 13:03:08,458 : INFO : EPOCH 3 - PROGRESS: at 15.76% examples, 650164 words/s, in_qsize 5, out_qsize 0\n",
            "2020-10-06 13:03:09,462 : INFO : EPOCH 3 - PROGRESS: at 21.05% examples, 652457 words/s, in_qsize 5, out_qsize 0\n",
            "2020-10-06 13:03:10,465 : INFO : EPOCH 3 - PROGRESS: at 26.28% examples, 653603 words/s, in_qsize 6, out_qsize 0\n",
            "2020-10-06 13:03:11,472 : INFO : EPOCH 3 - PROGRESS: at 31.45% examples, 653157 words/s, in_qsize 5, out_qsize 0\n",
            "2020-10-06 13:03:12,472 : INFO : EPOCH 3 - PROGRESS: at 36.51% examples, 651216 words/s, in_qsize 5, out_qsize 0\n",
            "2020-10-06 13:03:13,477 : INFO : EPOCH 3 - PROGRESS: at 41.56% examples, 648470 words/s, in_qsize 5, out_qsize 0\n",
            "2020-10-06 13:03:14,483 : INFO : EPOCH 3 - PROGRESS: at 46.74% examples, 648332 words/s, in_qsize 5, out_qsize 0\n",
            "2020-10-06 13:03:15,483 : INFO : EPOCH 3 - PROGRESS: at 51.91% examples, 648367 words/s, in_qsize 6, out_qsize 0\n",
            "2020-10-06 13:03:16,485 : INFO : EPOCH 3 - PROGRESS: at 57.03% examples, 647869 words/s, in_qsize 5, out_qsize 0\n",
            "2020-10-06 13:03:17,486 : INFO : EPOCH 3 - PROGRESS: at 62.14% examples, 647245 words/s, in_qsize 5, out_qsize 0\n",
            "2020-10-06 13:03:18,496 : INFO : EPOCH 3 - PROGRESS: at 67.43% examples, 647938 words/s, in_qsize 6, out_qsize 0\n",
            "2020-10-06 13:03:19,501 : INFO : EPOCH 3 - PROGRESS: at 72.49% examples, 646806 words/s, in_qsize 5, out_qsize 0\n",
            "2020-10-06 13:03:20,525 : INFO : EPOCH 3 - PROGRESS: at 77.78% examples, 645802 words/s, in_qsize 4, out_qsize 2\n",
            "2020-10-06 13:03:21,541 : INFO : EPOCH 3 - PROGRESS: at 83.07% examples, 645944 words/s, in_qsize 5, out_qsize 0\n",
            "2020-10-06 13:03:22,543 : INFO : EPOCH 3 - PROGRESS: at 88.30% examples, 646419 words/s, in_qsize 6, out_qsize 0\n",
            "2020-10-06 13:03:23,557 : INFO : EPOCH 3 - PROGRESS: at 93.47% examples, 645816 words/s, in_qsize 6, out_qsize 0\n",
            "2020-10-06 13:03:24,562 : INFO : EPOCH 3 - PROGRESS: at 98.65% examples, 645438 words/s, in_qsize 4, out_qsize 1\n",
            "2020-10-06 13:03:24,788 : INFO : worker thread finished; awaiting finish of 2 more threads\n",
            "2020-10-06 13:03:24,793 : INFO : worker thread finished; awaiting finish of 1 more threads\n",
            "2020-10-06 13:03:24,805 : INFO : worker thread finished; awaiting finish of 0 more threads\n",
            "2020-10-06 13:03:24,806 : INFO : EPOCH - 3 : training on 17005207 raw words (12507148 effective words) took 19.4s, 646000 effective words/s\n",
            "2020-10-06 13:03:25,819 : INFO : EPOCH 4 - PROGRESS: at 5.23% examples, 648660 words/s, in_qsize 5, out_qsize 0\n",
            "2020-10-06 13:03:26,830 : INFO : EPOCH 4 - PROGRESS: at 10.58% examples, 650650 words/s, in_qsize 5, out_qsize 1\n",
            "2020-10-06 13:03:27,847 : INFO : EPOCH 4 - PROGRESS: at 15.76% examples, 645232 words/s, in_qsize 5, out_qsize 0\n",
            "2020-10-06 13:03:28,857 : INFO : EPOCH 4 - PROGRESS: at 20.99% examples, 645956 words/s, in_qsize 5, out_qsize 0\n",
            "2020-10-06 13:03:29,858 : INFO : EPOCH 4 - PROGRESS: at 26.28% examples, 650026 words/s, in_qsize 6, out_qsize 0\n",
            "2020-10-06 13:03:30,865 : INFO : EPOCH 4 - PROGRESS: at 31.45% examples, 650114 words/s, in_qsize 5, out_qsize 0\n",
            "2020-10-06 13:03:31,886 : INFO : EPOCH 4 - PROGRESS: at 36.63% examples, 648881 words/s, in_qsize 4, out_qsize 1\n",
            "2020-10-06 13:03:32,890 : INFO : EPOCH 4 - PROGRESS: at 41.86% examples, 649352 words/s, in_qsize 5, out_qsize 0\n",
            "2020-10-06 13:03:33,908 : INFO : EPOCH 4 - PROGRESS: at 46.97% examples, 647381 words/s, in_qsize 5, out_qsize 1\n",
            "2020-10-06 13:03:34,913 : INFO : EPOCH 4 - PROGRESS: at 52.20% examples, 647835 words/s, in_qsize 4, out_qsize 1\n",
            "2020-10-06 13:03:35,920 : INFO : EPOCH 4 - PROGRESS: at 57.44% examples, 648353 words/s, in_qsize 5, out_qsize 0\n",
            "2020-10-06 13:03:36,928 : INFO : EPOCH 4 - PROGRESS: at 62.73% examples, 649206 words/s, in_qsize 5, out_qsize 0\n",
            "2020-10-06 13:03:37,945 : INFO : EPOCH 4 - PROGRESS: at 67.96% examples, 648833 words/s, in_qsize 4, out_qsize 1\n",
            "2020-10-06 13:03:38,949 : INFO : EPOCH 4 - PROGRESS: at 73.19% examples, 649354 words/s, in_qsize 5, out_qsize 0\n",
            "2020-10-06 13:03:39,950 : INFO : EPOCH 4 - PROGRESS: at 78.48% examples, 648989 words/s, in_qsize 5, out_qsize 0\n",
            "2020-10-06 13:03:40,970 : INFO : EPOCH 4 - PROGRESS: at 83.77% examples, 648888 words/s, in_qsize 5, out_qsize 0\n",
            "2020-10-06 13:03:41,979 : INFO : EPOCH 4 - PROGRESS: at 89.07% examples, 649315 words/s, in_qsize 3, out_qsize 2\n",
            "2020-10-06 13:03:42,997 : INFO : EPOCH 4 - PROGRESS: at 94.42% examples, 649522 words/s, in_qsize 5, out_qsize 1\n",
            "2020-10-06 13:03:44,004 : INFO : EPOCH 4 - PROGRESS: at 99.59% examples, 649076 words/s, in_qsize 6, out_qsize 1\n",
            "2020-10-06 13:03:44,040 : INFO : worker thread finished; awaiting finish of 2 more threads\n",
            "2020-10-06 13:03:44,050 : INFO : worker thread finished; awaiting finish of 1 more threads\n",
            "2020-10-06 13:03:44,058 : INFO : worker thread finished; awaiting finish of 0 more threads\n",
            "2020-10-06 13:03:44,059 : INFO : EPOCH - 4 : training on 17005207 raw words (12506094 effective words) took 19.2s, 649729 effective words/s\n",
            "2020-10-06 13:03:45,072 : INFO : EPOCH 5 - PROGRESS: at 5.11% examples, 634952 words/s, in_qsize 5, out_qsize 0\n",
            "2020-10-06 13:03:46,084 : INFO : EPOCH 5 - PROGRESS: at 10.46% examples, 642869 words/s, in_qsize 5, out_qsize 0\n",
            "2020-10-06 13:03:47,092 : INFO : EPOCH 5 - PROGRESS: at 15.81% examples, 649124 words/s, in_qsize 5, out_qsize 0\n",
            "2020-10-06 13:03:48,096 : INFO : EPOCH 5 - PROGRESS: at 21.05% examples, 649994 words/s, in_qsize 5, out_qsize 0\n",
            "2020-10-06 13:03:49,115 : INFO : EPOCH 5 - PROGRESS: at 26.28% examples, 649618 words/s, in_qsize 5, out_qsize 0\n",
            "2020-10-06 13:03:50,116 : INFO : EPOCH 5 - PROGRESS: at 31.51% examples, 651725 words/s, in_qsize 5, out_qsize 0\n",
            "2020-10-06 13:03:51,123 : INFO : EPOCH 5 - PROGRESS: at 36.92% examples, 655571 words/s, in_qsize 5, out_qsize 0\n",
            "2020-10-06 13:03:52,128 : INFO : EPOCH 5 - PROGRESS: at 42.27% examples, 656953 words/s, in_qsize 5, out_qsize 0\n",
            "2020-10-06 13:03:53,129 : INFO : EPOCH 5 - PROGRESS: at 47.62% examples, 658515 words/s, in_qsize 5, out_qsize 0\n",
            "2020-10-06 13:03:54,139 : INFO : EPOCH 5 - PROGRESS: at 52.97% examples, 659246 words/s, in_qsize 5, out_qsize 1\n",
            "2020-10-06 13:03:55,153 : INFO : EPOCH 5 - PROGRESS: at 58.44% examples, 660813 words/s, in_qsize 5, out_qsize 0\n",
            "2020-10-06 13:03:56,161 : INFO : EPOCH 5 - PROGRESS: at 63.79% examples, 661253 words/s, in_qsize 5, out_qsize 0\n",
            "2020-10-06 13:03:57,166 : INFO : EPOCH 5 - PROGRESS: at 69.08% examples, 661144 words/s, in_qsize 6, out_qsize 0\n",
            "2020-10-06 13:03:58,179 : INFO : EPOCH 5 - PROGRESS: at 74.19% examples, 659293 words/s, in_qsize 5, out_qsize 0\n",
            "2020-10-06 13:03:59,188 : INFO : EPOCH 5 - PROGRESS: at 79.66% examples, 659329 words/s, in_qsize 5, out_qsize 0\n",
            "2020-10-06 13:04:00,200 : INFO : EPOCH 5 - PROGRESS: at 85.13% examples, 660214 words/s, in_qsize 5, out_qsize 0\n",
            "2020-10-06 13:04:01,204 : INFO : EPOCH 5 - PROGRESS: at 90.36% examples, 659915 words/s, in_qsize 5, out_qsize 0\n",
            "2020-10-06 13:04:02,225 : INFO : EPOCH 5 - PROGRESS: at 96.00% examples, 661362 words/s, in_qsize 5, out_qsize 0\n",
            "2020-10-06 13:04:02,948 : INFO : worker thread finished; awaiting finish of 2 more threads\n",
            "2020-10-06 13:04:02,951 : INFO : worker thread finished; awaiting finish of 1 more threads\n",
            "2020-10-06 13:04:02,957 : INFO : worker thread finished; awaiting finish of 0 more threads\n",
            "2020-10-06 13:04:02,958 : INFO : EPOCH - 5 : training on 17005207 raw words (12505348 effective words) took 18.9s, 661891 effective words/s\n",
            "2020-10-06 13:04:02,959 : INFO : training on a 85026035 raw words (62531436 effective words) took 96.2s, 650057 effective words/s\n"
          ],
          "name": "stderr"
        }
      ]
    },
    {
      "cell_type": "markdown",
      "metadata": {
        "id": "-bHnSCCv__Gc"
      },
      "source": [
        "Now that we have our word2vec model, let's find words that are similar to 'tree'\n",
        "\n",
        "\n"
      ]
    },
    {
      "cell_type": "code",
      "metadata": {
        "id": "59dOHrL3__Ge",
        "outputId": "ca202544-57e2-4883-af25-f05dabed580d",
        "colab": {
          "base_uri": "https://localhost:8080/",
          "height": 138
        }
      },
      "source": [
        "print(model.most_similar('tree'))"
      ],
      "execution_count": 8,
      "outputs": [
        {
          "output_type": "stream",
          "text": [
            "/usr/local/lib/python3.6/dist-packages/ipykernel_launcher.py:1: DeprecationWarning: Call to deprecated `most_similar` (Method will be removed in 4.0.0, use self.wv.most_similar() instead).\n",
            "  \"\"\"Entry point for launching an IPython kernel.\n",
            "2020-10-06 13:04:02,965 : INFO : precomputing L2-norms of word weight vectors\n"
          ],
          "name": "stderr"
        },
        {
          "output_type": "stream",
          "text": [
            "[('trees', 0.7049376368522644), ('bark', 0.6889162659645081), ('leaf', 0.6727646589279175), ('flower', 0.6248071193695068), ('fruit', 0.6198490262031555), ('vine', 0.6014647483825684), ('seed', 0.5978450775146484), ('leaves', 0.5887178778648376), ('bee', 0.5858387351036072), ('avl', 0.5811556577682495)]\n"
          ],
          "name": "stdout"
        },
        {
          "output_type": "stream",
          "text": [
            "/usr/local/lib/python3.6/dist-packages/gensim/matutils.py:737: FutureWarning: Conversion of the second argument of issubdtype from `int` to `np.signedinteger` is deprecated. In future, it will be treated as `np.int64 == np.dtype(int).type`.\n",
            "  if np.issubdtype(vec.dtype, np.int):\n"
          ],
          "name": "stderr"
        }
      ]
    },
    {
      "cell_type": "markdown",
      "metadata": {
        "id": "XwZxizyy__Gj"
      },
      "source": [
        "You can use the API to download many corpora and models. You can get the list of all the models and corpora that are provided, by using the code below:\n",
        "\n",
        "\n"
      ]
    },
    {
      "cell_type": "code",
      "metadata": {
        "id": "AU1r_qoF__Gk",
        "outputId": "26b2a121-fc99-4ab8-e71c-2fe244965ba6",
        "colab": {
          "base_uri": "https://localhost:8080/",
          "height": 1000
        }
      },
      "source": [
        "import json\n",
        "info = api.info()\n",
        "print(json.dumps(info, indent=4))"
      ],
      "execution_count": 16,
      "outputs": [
        {
          "output_type": "stream",
          "text": [
            "{\n",
            "    \"corpora\": {\n",
            "        \"semeval-2016-2017-task3-subtaskBC\": {\n",
            "            \"num_records\": -1,\n",
            "            \"record_format\": \"dict\",\n",
            "            \"file_size\": 6344358,\n",
            "            \"reader_code\": \"https://github.com/RaRe-Technologies/gensim-data/releases/download/semeval-2016-2017-task3-subtaskB-eng/__init__.py\",\n",
            "            \"license\": \"All files released for the task are free for general research use\",\n",
            "            \"fields\": {\n",
            "                \"2016-train\": [\n",
            "                    \"...\"\n",
            "                ],\n",
            "                \"2016-dev\": [\n",
            "                    \"...\"\n",
            "                ],\n",
            "                \"2017-test\": [\n",
            "                    \"...\"\n",
            "                ],\n",
            "                \"2016-test\": [\n",
            "                    \"...\"\n",
            "                ]\n",
            "            },\n",
            "            \"description\": \"SemEval 2016 / 2017 Task 3 Subtask B and C datasets contain train+development (317 original questions, 3,169 related questions, and 31,690 comments), and test datasets in English. The description of the tasks and the collected data is given in sections 3 and 4.1 of the task paper http://alt.qcri.org/semeval2016/task3/data/uploads/semeval2016-task3-report.pdf linked in section \\u201cPapers\\u201d of https://github.com/RaRe-Technologies/gensim-data/issues/18.\",\n",
            "            \"checksum\": \"701ea67acd82e75f95e1d8e62fb0ad29\",\n",
            "            \"file_name\": \"semeval-2016-2017-task3-subtaskBC.gz\",\n",
            "            \"read_more\": [\n",
            "                \"http://alt.qcri.org/semeval2017/task3/\",\n",
            "                \"http://alt.qcri.org/semeval2017/task3/data/uploads/semeval2017-task3.pdf\",\n",
            "                \"https://github.com/RaRe-Technologies/gensim-data/issues/18\",\n",
            "                \"https://github.com/Witiko/semeval-2016_2017-task3-subtaskB-english\"\n",
            "            ],\n",
            "            \"parts\": 1\n",
            "        },\n",
            "        \"semeval-2016-2017-task3-subtaskA-unannotated\": {\n",
            "            \"num_records\": 189941,\n",
            "            \"record_format\": \"dict\",\n",
            "            \"file_size\": 234373151,\n",
            "            \"reader_code\": \"https://github.com/RaRe-Technologies/gensim-data/releases/download/semeval-2016-2017-task3-subtaskA-unannotated-eng/__init__.py\",\n",
            "            \"license\": \"These datasets are free for general research use.\",\n",
            "            \"fields\": {\n",
            "                \"THREAD_SEQUENCE\": \"\",\n",
            "                \"RelQuestion\": {\n",
            "                    \"RELQ_CATEGORY\": \"question category, according to the Qatar Living taxonomy\",\n",
            "                    \"RELQ_DATE\": \"date of posting\",\n",
            "                    \"RELQ_ID\": \"question indentifier\",\n",
            "                    \"RELQ_USERID\": \"identifier of the user asking the question\",\n",
            "                    \"RELQ_USERNAME\": \"name of the user asking the question\",\n",
            "                    \"RelQBody\": \"body of question\",\n",
            "                    \"RelQSubject\": \"subject of question\"\n",
            "                },\n",
            "                \"RelComments\": [\n",
            "                    {\n",
            "                        \"RelCText\": \"text of answer\",\n",
            "                        \"RELC_USERID\": \"identifier of the user posting the comment\",\n",
            "                        \"RELC_ID\": \"comment identifier\",\n",
            "                        \"RELC_USERNAME\": \"name of the user posting the comment\",\n",
            "                        \"RELC_DATE\": \"date of posting\"\n",
            "                    }\n",
            "                ]\n",
            "            },\n",
            "            \"description\": \"SemEval 2016 / 2017 Task 3 Subtask A unannotated dataset contains 189,941 questions and 1,894,456 comments in English collected from the Community Question Answering (CQA) web forum of Qatar Living. These can be used as a corpus for language modelling.\",\n",
            "            \"checksum\": \"2de0e2f2c4f91c66ae4fcf58d50ba816\",\n",
            "            \"file_name\": \"semeval-2016-2017-task3-subtaskA-unannotated.gz\",\n",
            "            \"read_more\": [\n",
            "                \"http://alt.qcri.org/semeval2016/task3/\",\n",
            "                \"http://alt.qcri.org/semeval2016/task3/data/uploads/semeval2016-task3-report.pdf\",\n",
            "                \"https://github.com/RaRe-Technologies/gensim-data/issues/18\",\n",
            "                \"https://github.com/Witiko/semeval-2016_2017-task3-subtaskA-unannotated-english\"\n",
            "            ],\n",
            "            \"parts\": 1\n",
            "        },\n",
            "        \"patent-2017\": {\n",
            "            \"num_records\": 353197,\n",
            "            \"record_format\": \"dict\",\n",
            "            \"file_size\": 3087262469,\n",
            "            \"reader_code\": \"https://github.com/RaRe-Technologies/gensim-data/releases/download/patent-2017/__init__.py\",\n",
            "            \"license\": \"not found\",\n",
            "            \"description\": \"Patent Grant Full Text. Contains the full text including tables, sequence data and 'in-line' mathematical expressions of each patent grant issued in 2017.\",\n",
            "            \"checksum-0\": \"818501f0b9af62d3b88294d86d509f8f\",\n",
            "            \"checksum-1\": \"66c05635c1d3c7a19b4a335829d09ffa\",\n",
            "            \"file_name\": \"patent-2017.gz\",\n",
            "            \"read_more\": [\n",
            "                \"http://patents.reedtech.com/pgrbft.php\"\n",
            "            ],\n",
            "            \"parts\": 2\n",
            "        },\n",
            "        \"quora-duplicate-questions\": {\n",
            "            \"num_records\": 404290,\n",
            "            \"record_format\": \"dict\",\n",
            "            \"file_size\": 21684784,\n",
            "            \"reader_code\": \"https://github.com/RaRe-Technologies/gensim-data/releases/download/quora-duplicate-questions/__init__.py\",\n",
            "            \"license\": \"probably https://www.quora.com/about/tos\",\n",
            "            \"fields\": {\n",
            "                \"question1\": \"the full text of each question\",\n",
            "                \"question2\": \"the full text of each question\",\n",
            "                \"qid1\": \"unique ids of each question\",\n",
            "                \"qid2\": \"unique ids of each question\",\n",
            "                \"id\": \"the id of a training set question pair\",\n",
            "                \"is_duplicate\": \"the target variable, set to 1 if question1 and question2 have essentially the same meaning, and 0 otherwise\"\n",
            "            },\n",
            "            \"description\": \"Over 400,000 lines of potential question duplicate pairs. Each line contains IDs for each question in the pair, the full text for each question, and a binary value that indicates whether the line contains a duplicate pair or not.\",\n",
            "            \"checksum\": \"d7cfa7fbc6e2ec71ab74c495586c6365\",\n",
            "            \"file_name\": \"quora-duplicate-questions.gz\",\n",
            "            \"read_more\": [\n",
            "                \"https://data.quora.com/First-Quora-Dataset-Release-Question-Pairs\"\n",
            "            ],\n",
            "            \"parts\": 1\n",
            "        },\n",
            "        \"wiki-english-20171001\": {\n",
            "            \"num_records\": 4924894,\n",
            "            \"record_format\": \"dict\",\n",
            "            \"file_size\": 6516051717,\n",
            "            \"reader_code\": \"https://github.com/RaRe-Technologies/gensim-data/releases/download/wiki-english-20171001/__init__.py\",\n",
            "            \"license\": \"https://dumps.wikimedia.org/legal.html\",\n",
            "            \"fields\": {\n",
            "                \"section_texts\": \"list of body of sections\",\n",
            "                \"section_titles\": \"list of titles of sections\",\n",
            "                \"title\": \"Title of wiki article\"\n",
            "            },\n",
            "            \"description\": \"Extracted Wikipedia dump from October 2017. Produced by `python -m gensim.scripts.segment_wiki -f enwiki-20171001-pages-articles.xml.bz2 -o wiki-en.gz`\",\n",
            "            \"checksum-0\": \"a7d7d7fd41ea7e2d7fa32ec1bb640d71\",\n",
            "            \"checksum-1\": \"b2683e3356ffbca3b6c2dca6e9801f9f\",\n",
            "            \"checksum-2\": \"c5cde2a9ae77b3c4ebce804f6df542c2\",\n",
            "            \"checksum-3\": \"00b71144ed5e3aeeb885de84f7452b81\",\n",
            "            \"file_name\": \"wiki-english-20171001.gz\",\n",
            "            \"read_more\": [\n",
            "                \"https://dumps.wikimedia.org/enwiki/20171001/\"\n",
            "            ],\n",
            "            \"parts\": 4\n",
            "        },\n",
            "        \"text8\": {\n",
            "            \"num_records\": 1701,\n",
            "            \"record_format\": \"list of str (tokens)\",\n",
            "            \"file_size\": 33182058,\n",
            "            \"reader_code\": \"https://github.com/RaRe-Technologies/gensim-data/releases/download/text8/__init__.py\",\n",
            "            \"license\": \"not found\",\n",
            "            \"description\": \"First 100,000,000 bytes of plain text from Wikipedia. Used for testing purposes; see wiki-english-* for proper full Wikipedia datasets.\",\n",
            "            \"checksum\": \"68799af40b6bda07dfa47a32612e5364\",\n",
            "            \"file_name\": \"text8.gz\",\n",
            "            \"read_more\": [\n",
            "                \"http://mattmahoney.net/dc/textdata.html\"\n",
            "            ],\n",
            "            \"parts\": 1\n",
            "        },\n",
            "        \"fake-news\": {\n",
            "            \"num_records\": 12999,\n",
            "            \"record_format\": \"dict\",\n",
            "            \"file_size\": 20102776,\n",
            "            \"reader_code\": \"https://github.com/RaRe-Technologies/gensim-data/releases/download/fake-news/__init__.py\",\n",
            "            \"license\": \"https://creativecommons.org/publicdomain/zero/1.0/\",\n",
            "            \"fields\": {\n",
            "                \"crawled\": \"date the story was archived\",\n",
            "                \"ord_in_thread\": \"\",\n",
            "                \"published\": \"date published\",\n",
            "                \"participants_count\": \"number of participants\",\n",
            "                \"shares\": \"number of Facebook shares\",\n",
            "                \"replies_count\": \"number of replies\",\n",
            "                \"main_img_url\": \"image from story\",\n",
            "                \"spam_score\": \"data from webhose.io\",\n",
            "                \"uuid\": \"unique identifier\",\n",
            "                \"language\": \"data from webhose.io\",\n",
            "                \"title\": \"title of story\",\n",
            "                \"country\": \"data from webhose.io\",\n",
            "                \"domain_rank\": \"data from webhose.io\",\n",
            "                \"author\": \"author of story\",\n",
            "                \"comments\": \"number of Facebook comments\",\n",
            "                \"site_url\": \"site URL from BS detector\",\n",
            "                \"text\": \"text of story\",\n",
            "                \"thread_title\": \"\",\n",
            "                \"type\": \"type of website (label from BS detector)\",\n",
            "                \"likes\": \"number of Facebook likes\"\n",
            "            },\n",
            "            \"description\": \"News dataset, contains text and metadata from 244 websites and represents 12,999 posts in total from a specific window of 30 days. The data was pulled using the webhose.io API, and because it's coming from their crawler, not all websites identified by their BS Detector are present in this dataset. Data sources that were missing a label were simply assigned a label of 'bs'. There are (ostensibly) no genuine, reliable, or trustworthy news sources represented in this dataset (so far), so don't trust anything you read.\",\n",
            "            \"checksum\": \"5e64e942df13219465927f92dcefd5fe\",\n",
            "            \"file_name\": \"fake-news.gz\",\n",
            "            \"read_more\": [\n",
            "                \"https://www.kaggle.com/mrisdal/fake-news\"\n",
            "            ],\n",
            "            \"parts\": 1\n",
            "        },\n",
            "        \"20-newsgroups\": {\n",
            "            \"num_records\": 18846,\n",
            "            \"record_format\": \"dict\",\n",
            "            \"file_size\": 14483581,\n",
            "            \"reader_code\": \"https://github.com/RaRe-Technologies/gensim-data/releases/download/20-newsgroups/__init__.py\",\n",
            "            \"license\": \"not found\",\n",
            "            \"fields\": {\n",
            "                \"topic\": \"name of topic (20 variant of possible values)\",\n",
            "                \"set\": \"marker of original split (possible values 'train' and 'test')\",\n",
            "                \"data\": \"\",\n",
            "                \"id\": \"original id inferred from folder name\"\n",
            "            },\n",
            "            \"description\": \"The notorious collection of approximately 20,000 newsgroup posts, partitioned (nearly) evenly across 20 different newsgroups.\",\n",
            "            \"checksum\": \"c92fd4f6640a86d5ba89eaad818a9891\",\n",
            "            \"file_name\": \"20-newsgroups.gz\",\n",
            "            \"read_more\": [\n",
            "                \"http://qwone.com/~jason/20Newsgroups/\"\n",
            "            ],\n",
            "            \"parts\": 1\n",
            "        },\n",
            "        \"__testing_matrix-synopsis\": {\n",
            "            \"description\": \"[THIS IS ONLY FOR TESTING] Synopsis of the movie matrix.\",\n",
            "            \"checksum\": \"1767ac93a089b43899d54944b07d9dc5\",\n",
            "            \"file_name\": \"__testing_matrix-synopsis.gz\",\n",
            "            \"read_more\": [\n",
            "                \"http://www.imdb.com/title/tt0133093/plotsummary?ref_=ttpl_pl_syn#synopsis\"\n",
            "            ],\n",
            "            \"parts\": 1\n",
            "        },\n",
            "        \"__testing_multipart-matrix-synopsis\": {\n",
            "            \"description\": \"[THIS IS ONLY FOR TESTING] Synopsis of the movie matrix.\",\n",
            "            \"checksum-0\": \"c8b0c7d8cf562b1b632c262a173ac338\",\n",
            "            \"checksum-1\": \"5ff7fc6818e9a5d9bc1cf12c35ed8b96\",\n",
            "            \"checksum-2\": \"966db9d274d125beaac7987202076cba\",\n",
            "            \"file_name\": \"__testing_multipart-matrix-synopsis.gz\",\n",
            "            \"read_more\": [\n",
            "                \"http://www.imdb.com/title/tt0133093/plotsummary?ref_=ttpl_pl_syn#synopsis\"\n",
            "            ],\n",
            "            \"parts\": 3\n",
            "        }\n",
            "    },\n",
            "    \"models\": {\n",
            "        \"fasttext-wiki-news-subwords-300\": {\n",
            "            \"num_records\": 999999,\n",
            "            \"file_size\": 1005007116,\n",
            "            \"base_dataset\": \"Wikipedia 2017, UMBC webbase corpus and statmt.org news dataset (16B tokens)\",\n",
            "            \"reader_code\": \"https://github.com/RaRe-Technologies/gensim-data/releases/download/fasttext-wiki-news-subwords-300/__init__.py\",\n",
            "            \"license\": \"https://creativecommons.org/licenses/by-sa/3.0/\",\n",
            "            \"parameters\": {\n",
            "                \"dimension\": 300\n",
            "            },\n",
            "            \"description\": \"1 million word vectors trained on Wikipedia 2017, UMBC webbase corpus and statmt.org news dataset (16B tokens).\",\n",
            "            \"read_more\": [\n",
            "                \"https://fasttext.cc/docs/en/english-vectors.html\",\n",
            "                \"https://arxiv.org/abs/1712.09405\",\n",
            "                \"https://arxiv.org/abs/1607.01759\"\n",
            "            ],\n",
            "            \"checksum\": \"de2bb3a20c46ce65c9c131e1ad9a77af\",\n",
            "            \"file_name\": \"fasttext-wiki-news-subwords-300.gz\",\n",
            "            \"parts\": 1\n",
            "        },\n",
            "        \"conceptnet-numberbatch-17-06-300\": {\n",
            "            \"num_records\": 1917247,\n",
            "            \"file_size\": 1225497562,\n",
            "            \"base_dataset\": \"ConceptNet, word2vec, GloVe, and OpenSubtitles 2016\",\n",
            "            \"reader_code\": \"https://github.com/RaRe-Technologies/gensim-data/releases/download/conceptnet-numberbatch-17-06-300/__init__.py\",\n",
            "            \"license\": \"https://github.com/commonsense/conceptnet-numberbatch/blob/master/LICENSE.txt\",\n",
            "            \"parameters\": {\n",
            "                \"dimension\": 300\n",
            "            },\n",
            "            \"description\": \"ConceptNet Numberbatch consists of state-of-the-art semantic vectors (also known as word embeddings) that can be used directly as a representation of word meanings or as a starting point for further machine learning. ConceptNet Numberbatch is part of the ConceptNet open data project. ConceptNet provides lots of ways to compute with word meanings, one of which is word embeddings. ConceptNet Numberbatch is a snapshot of just the word embeddings. It is built using an ensemble that combines data from ConceptNet, word2vec, GloVe, and OpenSubtitles 2016, using a variation on retrofitting.\",\n",
            "            \"read_more\": [\n",
            "                \"http://aaai.org/ocs/index.php/AAAI/AAAI17/paper/view/14972\",\n",
            "                \"https://github.com/commonsense/conceptnet-numberbatch\",\n",
            "                \"http://conceptnet.io/\"\n",
            "            ],\n",
            "            \"checksum\": \"fd642d457adcd0ea94da0cd21b150847\",\n",
            "            \"file_name\": \"conceptnet-numberbatch-17-06-300.gz\",\n",
            "            \"parts\": 1\n",
            "        },\n",
            "        \"word2vec-ruscorpora-300\": {\n",
            "            \"num_records\": 184973,\n",
            "            \"file_size\": 208427381,\n",
            "            \"base_dataset\": \"Russian National Corpus (about 250M words)\",\n",
            "            \"reader_code\": \"https://github.com/RaRe-Technologies/gensim-data/releases/download/word2vec-ruscorpora-300/__init__.py\",\n",
            "            \"license\": \"https://creativecommons.org/licenses/by/4.0/deed.en\",\n",
            "            \"parameters\": {\n",
            "                \"dimension\": 300,\n",
            "                \"window_size\": 10\n",
            "            },\n",
            "            \"description\": \"Word2vec Continuous Skipgram vectors trained on full Russian National Corpus (about 250M words). The model contains 185K words.\",\n",
            "            \"preprocessing\": \"The corpus was lemmatized and tagged with Universal PoS\",\n",
            "            \"read_more\": [\n",
            "                \"https://www.academia.edu/24306935/WebVectors_a_Toolkit_for_Building_Web_Interfaces_for_Vector_Semantic_Models\",\n",
            "                \"http://rusvectores.org/en/\",\n",
            "                \"https://github.com/RaRe-Technologies/gensim-data/issues/3\"\n",
            "            ],\n",
            "            \"checksum\": \"9bdebdc8ae6d17d20839dd9b5af10bc4\",\n",
            "            \"file_name\": \"word2vec-ruscorpora-300.gz\",\n",
            "            \"parts\": 1\n",
            "        },\n",
            "        \"word2vec-google-news-300\": {\n",
            "            \"num_records\": 3000000,\n",
            "            \"file_size\": 1743563840,\n",
            "            \"base_dataset\": \"Google News (about 100 billion words)\",\n",
            "            \"reader_code\": \"https://github.com/RaRe-Technologies/gensim-data/releases/download/word2vec-google-news-300/__init__.py\",\n",
            "            \"license\": \"not found\",\n",
            "            \"parameters\": {\n",
            "                \"dimension\": 300\n",
            "            },\n",
            "            \"description\": \"Pre-trained vectors trained on a part of the Google News dataset (about 100 billion words). The model contains 300-dimensional vectors for 3 million words and phrases. The phrases were obtained using a simple data-driven approach described in 'Distributed Representations of Words and Phrases and their Compositionality' (https://code.google.com/archive/p/word2vec/).\",\n",
            "            \"read_more\": [\n",
            "                \"https://code.google.com/archive/p/word2vec/\",\n",
            "                \"https://arxiv.org/abs/1301.3781\",\n",
            "                \"https://arxiv.org/abs/1310.4546\",\n",
            "                \"https://www.microsoft.com/en-us/research/publication/linguistic-regularities-in-continuous-space-word-representations/?from=http%3A%2F%2Fresearch.microsoft.com%2Fpubs%2F189726%2Frvecs.pdf\"\n",
            "            ],\n",
            "            \"checksum\": \"a5e5354d40acb95f9ec66d5977d140ef\",\n",
            "            \"file_name\": \"word2vec-google-news-300.gz\",\n",
            "            \"parts\": 1\n",
            "        },\n",
            "        \"glove-wiki-gigaword-50\": {\n",
            "            \"num_records\": 400000,\n",
            "            \"file_size\": 69182535,\n",
            "            \"base_dataset\": \"Wikipedia 2014 + Gigaword 5 (6B tokens, uncased)\",\n",
            "            \"reader_code\": \"https://github.com/RaRe-Technologies/gensim-data/releases/download/glove-wiki-gigaword-50/__init__.py\",\n",
            "            \"license\": \"http://opendatacommons.org/licenses/pddl/\",\n",
            "            \"parameters\": {\n",
            "                \"dimension\": 50\n",
            "            },\n",
            "            \"description\": \"Pre-trained vectors based on Wikipedia 2014 + Gigaword, 5.6B tokens, 400K vocab, uncased (https://nlp.stanford.edu/projects/glove/).\",\n",
            "            \"preprocessing\": \"Converted to w2v format with `python -m gensim.scripts.glove2word2vec -i <fname> -o glove-wiki-gigaword-50.txt`.\",\n",
            "            \"read_more\": [\n",
            "                \"https://nlp.stanford.edu/projects/glove/\",\n",
            "                \"https://nlp.stanford.edu/pubs/glove.pdf\"\n",
            "            ],\n",
            "            \"checksum\": \"c289bc5d7f2f02c6dc9f2f9b67641813\",\n",
            "            \"file_name\": \"glove-wiki-gigaword-50.gz\",\n",
            "            \"parts\": 1\n",
            "        },\n",
            "        \"glove-wiki-gigaword-100\": {\n",
            "            \"num_records\": 400000,\n",
            "            \"file_size\": 134300434,\n",
            "            \"base_dataset\": \"Wikipedia 2014 + Gigaword 5 (6B tokens, uncased)\",\n",
            "            \"reader_code\": \"https://github.com/RaRe-Technologies/gensim-data/releases/download/glove-wiki-gigaword-100/__init__.py\",\n",
            "            \"license\": \"http://opendatacommons.org/licenses/pddl/\",\n",
            "            \"parameters\": {\n",
            "                \"dimension\": 100\n",
            "            },\n",
            "            \"description\": \"Pre-trained vectors based on Wikipedia 2014 + Gigaword 5.6B tokens, 400K vocab, uncased (https://nlp.stanford.edu/projects/glove/).\",\n",
            "            \"preprocessing\": \"Converted to w2v format with `python -m gensim.scripts.glove2word2vec -i <fname> -o glove-wiki-gigaword-100.txt`.\",\n",
            "            \"read_more\": [\n",
            "                \"https://nlp.stanford.edu/projects/glove/\",\n",
            "                \"https://nlp.stanford.edu/pubs/glove.pdf\"\n",
            "            ],\n",
            "            \"checksum\": \"40ec481866001177b8cd4cb0df92924f\",\n",
            "            \"file_name\": \"glove-wiki-gigaword-100.gz\",\n",
            "            \"parts\": 1\n",
            "        },\n",
            "        \"glove-wiki-gigaword-200\": {\n",
            "            \"num_records\": 400000,\n",
            "            \"file_size\": 264336934,\n",
            "            \"base_dataset\": \"Wikipedia 2014 + Gigaword 5 (6B tokens, uncased)\",\n",
            "            \"reader_code\": \"https://github.com/RaRe-Technologies/gensim-data/releases/download/glove-wiki-gigaword-200/__init__.py\",\n",
            "            \"license\": \"http://opendatacommons.org/licenses/pddl/\",\n",
            "            \"parameters\": {\n",
            "                \"dimension\": 200\n",
            "            },\n",
            "            \"description\": \"Pre-trained vectors based on Wikipedia 2014 + Gigaword, 5.6B tokens, 400K vocab, uncased (https://nlp.stanford.edu/projects/glove/).\",\n",
            "            \"preprocessing\": \"Converted to w2v format with `python -m gensim.scripts.glove2word2vec -i <fname> -o glove-wiki-gigaword-200.txt`.\",\n",
            "            \"read_more\": [\n",
            "                \"https://nlp.stanford.edu/projects/glove/\",\n",
            "                \"https://nlp.stanford.edu/pubs/glove.pdf\"\n",
            "            ],\n",
            "            \"checksum\": \"59652db361b7a87ee73834a6c391dfc1\",\n",
            "            \"file_name\": \"glove-wiki-gigaword-200.gz\",\n",
            "            \"parts\": 1\n",
            "        },\n",
            "        \"glove-wiki-gigaword-300\": {\n",
            "            \"num_records\": 400000,\n",
            "            \"file_size\": 394362229,\n",
            "            \"base_dataset\": \"Wikipedia 2014 + Gigaword 5 (6B tokens, uncased)\",\n",
            "            \"reader_code\": \"https://github.com/RaRe-Technologies/gensim-data/releases/download/glove-wiki-gigaword-300/__init__.py\",\n",
            "            \"license\": \"http://opendatacommons.org/licenses/pddl/\",\n",
            "            \"parameters\": {\n",
            "                \"dimension\": 300\n",
            "            },\n",
            "            \"description\": \"Pre-trained vectors based on Wikipedia 2014 + Gigaword, 5.6B tokens, 400K vocab, uncased (https://nlp.stanford.edu/projects/glove/).\",\n",
            "            \"preprocessing\": \"Converted to w2v format with `python -m gensim.scripts.glove2word2vec -i <fname> -o glove-wiki-gigaword-300.txt`.\",\n",
            "            \"read_more\": [\n",
            "                \"https://nlp.stanford.edu/projects/glove/\",\n",
            "                \"https://nlp.stanford.edu/pubs/glove.pdf\"\n",
            "            ],\n",
            "            \"checksum\": \"29e9329ac2241937d55b852e8284e89b\",\n",
            "            \"file_name\": \"glove-wiki-gigaword-300.gz\",\n",
            "            \"parts\": 1\n",
            "        },\n",
            "        \"glove-twitter-25\": {\n",
            "            \"num_records\": 1193514,\n",
            "            \"file_size\": 109885004,\n",
            "            \"base_dataset\": \"Twitter (2B tweets, 27B tokens, 1.2M vocab, uncased)\",\n",
            "            \"reader_code\": \"https://github.com/RaRe-Technologies/gensim-data/releases/download/glove-twitter-25/__init__.py\",\n",
            "            \"license\": \"http://opendatacommons.org/licenses/pddl/\",\n",
            "            \"parameters\": {\n",
            "                \"dimension\": 25\n",
            "            },\n",
            "            \"description\": \"Pre-trained vectors based on 2B tweets, 27B tokens, 1.2M vocab, uncased (https://nlp.stanford.edu/projects/glove/).\",\n",
            "            \"preprocessing\": \"Converted to w2v format with `python -m gensim.scripts.glove2word2vec -i <fname> -o glove-twitter-25.txt`.\",\n",
            "            \"read_more\": [\n",
            "                \"https://nlp.stanford.edu/projects/glove/\",\n",
            "                \"https://nlp.stanford.edu/pubs/glove.pdf\"\n",
            "            ],\n",
            "            \"checksum\": \"50db0211d7e7a2dcd362c6b774762793\",\n",
            "            \"file_name\": \"glove-twitter-25.gz\",\n",
            "            \"parts\": 1\n",
            "        },\n",
            "        \"glove-twitter-50\": {\n",
            "            \"num_records\": 1193514,\n",
            "            \"file_size\": 209216938,\n",
            "            \"base_dataset\": \"Twitter (2B tweets, 27B tokens, 1.2M vocab, uncased)\",\n",
            "            \"reader_code\": \"https://github.com/RaRe-Technologies/gensim-data/releases/download/glove-twitter-50/__init__.py\",\n",
            "            \"license\": \"http://opendatacommons.org/licenses/pddl/\",\n",
            "            \"parameters\": {\n",
            "                \"dimension\": 50\n",
            "            },\n",
            "            \"description\": \"Pre-trained vectors based on 2B tweets, 27B tokens, 1.2M vocab, uncased (https://nlp.stanford.edu/projects/glove/)\",\n",
            "            \"preprocessing\": \"Converted to w2v format with `python -m gensim.scripts.glove2word2vec -i <fname> -o glove-twitter-50.txt`.\",\n",
            "            \"read_more\": [\n",
            "                \"https://nlp.stanford.edu/projects/glove/\",\n",
            "                \"https://nlp.stanford.edu/pubs/glove.pdf\"\n",
            "            ],\n",
            "            \"checksum\": \"c168f18641f8c8a00fe30984c4799b2b\",\n",
            "            \"file_name\": \"glove-twitter-50.gz\",\n",
            "            \"parts\": 1\n",
            "        },\n",
            "        \"glove-twitter-100\": {\n",
            "            \"num_records\": 1193514,\n",
            "            \"file_size\": 405932991,\n",
            "            \"base_dataset\": \"Twitter (2B tweets, 27B tokens, 1.2M vocab, uncased)\",\n",
            "            \"reader_code\": \"https://github.com/RaRe-Technologies/gensim-data/releases/download/glove-twitter-100/__init__.py\",\n",
            "            \"license\": \"http://opendatacommons.org/licenses/pddl/\",\n",
            "            \"parameters\": {\n",
            "                \"dimension\": 100\n",
            "            },\n",
            "            \"description\": \"Pre-trained vectors based on  2B tweets, 27B tokens, 1.2M vocab, uncased (https://nlp.stanford.edu/projects/glove/)\",\n",
            "            \"preprocessing\": \"Converted to w2v format with `python -m gensim.scripts.glove2word2vec -i <fname> -o glove-twitter-100.txt`.\",\n",
            "            \"read_more\": [\n",
            "                \"https://nlp.stanford.edu/projects/glove/\",\n",
            "                \"https://nlp.stanford.edu/pubs/glove.pdf\"\n",
            "            ],\n",
            "            \"checksum\": \"b04f7bed38756d64cf55b58ce7e97b15\",\n",
            "            \"file_name\": \"glove-twitter-100.gz\",\n",
            "            \"parts\": 1\n",
            "        },\n",
            "        \"glove-twitter-200\": {\n",
            "            \"num_records\": 1193514,\n",
            "            \"file_size\": 795373100,\n",
            "            \"base_dataset\": \"Twitter (2B tweets, 27B tokens, 1.2M vocab, uncased)\",\n",
            "            \"reader_code\": \"https://github.com/RaRe-Technologies/gensim-data/releases/download/glove-twitter-200/__init__.py\",\n",
            "            \"license\": \"http://opendatacommons.org/licenses/pddl/\",\n",
            "            \"parameters\": {\n",
            "                \"dimension\": 200\n",
            "            },\n",
            "            \"description\": \"Pre-trained vectors based on 2B tweets, 27B tokens, 1.2M vocab, uncased (https://nlp.stanford.edu/projects/glove/).\",\n",
            "            \"preprocessing\": \"Converted to w2v format with `python -m gensim.scripts.glove2word2vec -i <fname> -o glove-twitter-200.txt`.\",\n",
            "            \"read_more\": [\n",
            "                \"https://nlp.stanford.edu/projects/glove/\",\n",
            "                \"https://nlp.stanford.edu/pubs/glove.pdf\"\n",
            "            ],\n",
            "            \"checksum\": \"e52e8392d1860b95d5308a525817d8f9\",\n",
            "            \"file_name\": \"glove-twitter-200.gz\",\n",
            "            \"parts\": 1\n",
            "        },\n",
            "        \"__testing_word2vec-matrix-synopsis\": {\n",
            "            \"description\": \"[THIS IS ONLY FOR TESTING] Word vecrors of the movie matrix.\",\n",
            "            \"parameters\": {\n",
            "                \"dimensions\": 50\n",
            "            },\n",
            "            \"preprocessing\": \"Converted to w2v using a preprocessed corpus. Converted to w2v format with `python3.5 -m gensim.models.word2vec -train <input_filename> -iter 50 -output <output_filename>`.\",\n",
            "            \"read_more\": [],\n",
            "            \"checksum\": \"534dcb8b56a360977a269b7bfc62d124\",\n",
            "            \"file_name\": \"__testing_word2vec-matrix-synopsis.gz\",\n",
            "            \"parts\": 1\n",
            "        }\n",
            "    }\n",
            "}\n"
          ],
          "name": "stdout"
        }
      ]
    },
    {
      "cell_type": "markdown",
      "metadata": {
        "id": "8gat61Tw__Go"
      },
      "source": [
        "There are two types of data: corpora and models.\n",
        "\n"
      ]
    },
    {
      "cell_type": "code",
      "metadata": {
        "id": "ZKE3fK6p__Gp",
        "outputId": "78968131-c823-4e3b-db9c-68766c43e631",
        "colab": {
          "base_uri": "https://localhost:8080/",
          "height": 34
        }
      },
      "source": [
        "print(info.keys())"
      ],
      "execution_count": 17,
      "outputs": [
        {
          "output_type": "stream",
          "text": [
            "dict_keys(['corpora', 'models'])\n"
          ],
          "name": "stdout"
        }
      ]
    },
    {
      "cell_type": "markdown",
      "metadata": {
        "id": "7aF-gyX6__Gu"
      },
      "source": [
        "Let's have a look at the available corpora:\n",
        "\n"
      ]
    },
    {
      "cell_type": "code",
      "metadata": {
        "id": "18pzImI9__Gv",
        "outputId": "399a37df-2201-4d5b-8595-a9aaa39a15b4",
        "colab": {
          "base_uri": "https://localhost:8080/",
          "height": 185
        }
      },
      "source": [
        "for corpus_name, corpus_data in sorted(info['corpora'].items()):\n",
        "    print(\n",
        "        '%s (%d records): %s' % (\n",
        "            corpus_name,\n",
        "            corpus_data.get('num_records', -1),\n",
        "            corpus_data['description'][:40] + '...',\n",
        "        )\n",
        "    )"
      ],
      "execution_count": 18,
      "outputs": [
        {
          "output_type": "stream",
          "text": [
            "20-newsgroups (18846 records): The notorious collection of approximatel...\n",
            "__testing_matrix-synopsis (-1 records): [THIS IS ONLY FOR TESTING] Synopsis of t...\n",
            "__testing_multipart-matrix-synopsis (-1 records): [THIS IS ONLY FOR TESTING] Synopsis of t...\n",
            "fake-news (12999 records): News dataset, contains text and metadata...\n",
            "patent-2017 (353197 records): Patent Grant Full Text. Contains the ful...\n",
            "quora-duplicate-questions (404290 records): Over 400,000 lines of potential question...\n",
            "semeval-2016-2017-task3-subtaskA-unannotated (189941 records): SemEval 2016 / 2017 Task 3 Subtask A una...\n",
            "semeval-2016-2017-task3-subtaskBC (-1 records): SemEval 2016 / 2017 Task 3 Subtask B and...\n",
            "text8 (1701 records): First 100,000,000 bytes of plain text fr...\n",
            "wiki-english-20171001 (4924894 records): Extracted Wikipedia dump from October 20...\n"
          ],
          "name": "stdout"
        }
      ]
    },
    {
      "cell_type": "markdown",
      "metadata": {
        "id": "1c7wS95w__G2"
      },
      "source": [
        "... and the same for models:\n",
        "\n"
      ]
    },
    {
      "cell_type": "code",
      "metadata": {
        "id": "ZTxclRO___G3",
        "outputId": "a8fa846e-f027-4016-83cf-7dc808873e9a",
        "colab": {
          "base_uri": "https://localhost:8080/",
          "height": 235
        }
      },
      "source": [
        "for model_name, model_data in sorted(info['models'].items()):\n",
        "    print(\n",
        "        '%s (%d records): %s' % (\n",
        "            model_name,\n",
        "            model_data.get('num_records', -1),\n",
        "            model_data['description'][:40] + '...',\n",
        "        )\n",
        "    )"
      ],
      "execution_count": 19,
      "outputs": [
        {
          "output_type": "stream",
          "text": [
            "__testing_word2vec-matrix-synopsis (-1 records): [THIS IS ONLY FOR TESTING] Word vecrors ...\n",
            "conceptnet-numberbatch-17-06-300 (1917247 records): ConceptNet Numberbatch consists of state...\n",
            "fasttext-wiki-news-subwords-300 (999999 records): 1 million word vectors trained on Wikipe...\n",
            "glove-twitter-100 (1193514 records): Pre-trained vectors based on  2B tweets,...\n",
            "glove-twitter-200 (1193514 records): Pre-trained vectors based on 2B tweets, ...\n",
            "glove-twitter-25 (1193514 records): Pre-trained vectors based on 2B tweets, ...\n",
            "glove-twitter-50 (1193514 records): Pre-trained vectors based on 2B tweets, ...\n",
            "glove-wiki-gigaword-100 (400000 records): Pre-trained vectors based on Wikipedia 2...\n",
            "glove-wiki-gigaword-200 (400000 records): Pre-trained vectors based on Wikipedia 2...\n",
            "glove-wiki-gigaword-300 (400000 records): Pre-trained vectors based on Wikipedia 2...\n",
            "glove-wiki-gigaword-50 (400000 records): Pre-trained vectors based on Wikipedia 2...\n",
            "word2vec-google-news-300 (3000000 records): Pre-trained vectors trained on a part of...\n",
            "word2vec-ruscorpora-300 (184973 records): Word2vec Continuous Skipgram vectors tra...\n"
          ],
          "name": "stdout"
        }
      ]
    },
    {
      "cell_type": "markdown",
      "metadata": {
        "id": "aXLbbU_W__G8"
      },
      "source": [
        "If you want to get detailed information about the model/corpus, use:\n",
        "\n",
        "\n"
      ]
    },
    {
      "cell_type": "code",
      "metadata": {
        "id": "IwyMjOY1__G9",
        "outputId": "442aa252-2a66-4c40-f3f7-3aafa15bb796",
        "colab": {
          "base_uri": "https://localhost:8080/",
          "height": 642
        }
      },
      "source": [
        "fake_news_info = api.info('fake-news')\n",
        "print(json.dumps(fake_news_info, indent=4))"
      ],
      "execution_count": 13,
      "outputs": [
        {
          "output_type": "stream",
          "text": [
            "{\n",
            "    \"num_records\": 12999,\n",
            "    \"record_format\": \"dict\",\n",
            "    \"file_size\": 20102776,\n",
            "    \"reader_code\": \"https://github.com/RaRe-Technologies/gensim-data/releases/download/fake-news/__init__.py\",\n",
            "    \"license\": \"https://creativecommons.org/publicdomain/zero/1.0/\",\n",
            "    \"fields\": {\n",
            "        \"crawled\": \"date the story was archived\",\n",
            "        \"ord_in_thread\": \"\",\n",
            "        \"published\": \"date published\",\n",
            "        \"participants_count\": \"number of participants\",\n",
            "        \"shares\": \"number of Facebook shares\",\n",
            "        \"replies_count\": \"number of replies\",\n",
            "        \"main_img_url\": \"image from story\",\n",
            "        \"spam_score\": \"data from webhose.io\",\n",
            "        \"uuid\": \"unique identifier\",\n",
            "        \"language\": \"data from webhose.io\",\n",
            "        \"title\": \"title of story\",\n",
            "        \"country\": \"data from webhose.io\",\n",
            "        \"domain_rank\": \"data from webhose.io\",\n",
            "        \"author\": \"author of story\",\n",
            "        \"comments\": \"number of Facebook comments\",\n",
            "        \"site_url\": \"site URL from BS detector\",\n",
            "        \"text\": \"text of story\",\n",
            "        \"thread_title\": \"\",\n",
            "        \"type\": \"type of website (label from BS detector)\",\n",
            "        \"likes\": \"number of Facebook likes\"\n",
            "    },\n",
            "    \"description\": \"News dataset, contains text and metadata from 244 websites and represents 12,999 posts in total from a specific window of 30 days. The data was pulled using the webhose.io API, and because it's coming from their crawler, not all websites identified by their BS Detector are present in this dataset. Data sources that were missing a label were simply assigned a label of 'bs'. There are (ostensibly) no genuine, reliable, or trustworthy news sources represented in this dataset (so far), so don't trust anything you read.\",\n",
            "    \"checksum\": \"5e64e942df13219465927f92dcefd5fe\",\n",
            "    \"file_name\": \"fake-news.gz\",\n",
            "    \"read_more\": [\n",
            "        \"https://www.kaggle.com/mrisdal/fake-news\"\n",
            "    ],\n",
            "    \"parts\": 1\n",
            "}\n"
          ],
          "name": "stdout"
        }
      ]
    },
    {
      "cell_type": "markdown",
      "metadata": {
        "id": "t3tPbPLq__HC"
      },
      "source": [
        "Sometimes, you do not want to load the model to memory. You would just want to get the path to the model. For that, use :\n",
        "\n",
        "\n"
      ]
    },
    {
      "cell_type": "code",
      "metadata": {
        "id": "HTPHDrlp__HD",
        "outputId": "2ab42ba6-e1ce-4dfd-9f0d-6caa7ada830a",
        "colab": {
          "base_uri": "https://localhost:8080/",
          "height": 67
        }
      },
      "source": [
        "print(api.load('glove-wiki-gigaword-50', return_path=True))"
      ],
      "execution_count": 14,
      "outputs": [
        {
          "output_type": "stream",
          "text": [
            "[==================================================] 100.0% 66.0/66.0MB downloaded\n"
          ],
          "name": "stdout"
        },
        {
          "output_type": "stream",
          "text": [
            "2020-10-06 13:04:11,548 : INFO : glove-wiki-gigaword-50 downloaded\n"
          ],
          "name": "stderr"
        },
        {
          "output_type": "stream",
          "text": [
            "/root/gensim-data/glove-wiki-gigaword-50/glove-wiki-gigaword-50.gz\n"
          ],
          "name": "stdout"
        }
      ]
    },
    {
      "cell_type": "markdown",
      "metadata": {
        "id": "hpzWcWnu__HH"
      },
      "source": [
        "If you want to load the model to memory, then:\n",
        "\n",
        "\n"
      ]
    },
    {
      "cell_type": "code",
      "metadata": {
        "id": "VhAWLt1j__HI",
        "outputId": "d3383de4-b5ed-4193-b483-8ec5ac40238a",
        "colab": {
          "base_uri": "https://localhost:8080/",
          "height": 322
        }
      },
      "source": [
        "model = api.load(\"glove-wiki-gigaword-50\")\n",
        "model.most_similar(\"glass\")"
      ],
      "execution_count": 23,
      "outputs": [
        {
          "output_type": "stream",
          "text": [
            "2020-10-06 13:23:29,164 : INFO : loading projection weights from /root/gensim-data/glove-wiki-gigaword-50/glove-wiki-gigaword-50.gz\n",
            "/usr/local/lib/python3.6/dist-packages/smart_open/smart_open_lib.py:252: UserWarning: This function is deprecated, use smart_open.open instead. See the migration notes for details: https://github.com/RaRe-Technologies/smart_open/blob/master/README.rst#migrating-to-the-new-open-function\n",
            "  'See the migration notes for details: %s' % _MIGRATION_NOTES_URL\n",
            "2020-10-06 13:23:52,038 : INFO : loaded (400000, 50) matrix from /root/gensim-data/glove-wiki-gigaword-50/glove-wiki-gigaword-50.gz\n",
            "2020-10-06 13:23:52,103 : INFO : precomputing L2-norms of word weight vectors\n",
            "/usr/local/lib/python3.6/dist-packages/gensim/matutils.py:737: FutureWarning: Conversion of the second argument of issubdtype from `int` to `np.signedinteger` is deprecated. In future, it will be treated as `np.int64 == np.dtype(int).type`.\n",
            "  if np.issubdtype(vec.dtype, np.int):\n"
          ],
          "name": "stderr"
        },
        {
          "output_type": "execute_result",
          "data": {
            "text/plain": [
              "[('plastic', 0.7942505478858948),\n",
              " ('metal', 0.770871639251709),\n",
              " ('walls', 0.7700636386871338),\n",
              " ('marble', 0.7638524174690247),\n",
              " ('wood', 0.7624281048774719),\n",
              " ('ceramic', 0.7602593302726746),\n",
              " ('pieces', 0.7589111924171448),\n",
              " ('stained', 0.7528817057609558),\n",
              " ('tile', 0.748193621635437),\n",
              " ('furniture', 0.746385931968689)]"
            ]
          },
          "metadata": {
            "tags": []
          },
          "execution_count": 23
        }
      ]
    },
    {
      "cell_type": "markdown",
      "metadata": {
        "id": "ZYfh8awG__HO"
      },
      "source": [
        "In corpora, the corpus is never loaded to memory, all corpuses wrapped to special class ``Dataset`` and provide ``__iter__`` method\n",
        "\n",
        "\n"
      ]
    },
    {
      "cell_type": "code",
      "metadata": {
        "id": "sIvxNCo9D4sG",
        "outputId": "adb5c30f-2e90-4988-a132-5ff7455303d7",
        "colab": {
          "base_uri": "https://localhost:8080/",
          "height": 168
        }
      },
      "source": [
        "model.get_vector('car')"
      ],
      "execution_count": 24,
      "outputs": [
        {
          "output_type": "execute_result",
          "data": {
            "text/plain": [
              "array([ 0.47685 , -0.084552,  1.4641  ,  0.047017,  0.14686 ,  0.5082  ,\n",
              "       -1.2228  , -0.22607 ,  0.19306 , -0.29756 ,  0.20599 , -0.71284 ,\n",
              "       -1.6288  ,  0.17096 ,  0.74797 , -0.061943, -0.65766 ,  1.3786  ,\n",
              "       -0.68043 , -1.7551  ,  0.58319 ,  0.25157 , -1.2114  ,  0.81343 ,\n",
              "        0.094825, -1.6819  , -0.64498 ,  0.6322  ,  1.1211  ,  0.16112 ,\n",
              "        2.5379  ,  0.24852 , -0.26816 ,  0.32818 ,  1.2916  ,  0.23548 ,\n",
              "        0.61465 , -0.1344  , -0.13237 ,  0.27398 , -0.11821 ,  0.1354  ,\n",
              "        0.074306, -0.61951 ,  0.45472 , -0.30318 , -0.21883 , -0.56054 ,\n",
              "        1.1177  , -0.36595 ], dtype=float32)"
            ]
          },
          "metadata": {
            "tags": []
          },
          "execution_count": 24
        }
      ]
    },
    {
      "cell_type": "code",
      "metadata": {
        "id": "IFv2TAvWGM8t",
        "outputId": "e45dc2c3-425c-40aa-be26-4a47f43dceaa",
        "colab": {
          "base_uri": "https://localhost:8080/",
          "height": 168
        }
      },
      "source": [
        "model.get_vector('banana')"
      ],
      "execution_count": 25,
      "outputs": [
        {
          "output_type": "execute_result",
          "data": {
            "text/plain": [
              "array([-0.25522 , -0.75249 , -0.86655 ,  1.1197  ,  0.12887 ,  1.0121  ,\n",
              "       -0.57249 , -0.36224 ,  0.44341 , -0.12211 ,  0.073524,  0.21387 ,\n",
              "        0.96744 , -0.068611,  0.51452 , -0.053425, -0.21966 ,  0.23012 ,\n",
              "        1.043   , -0.77016 , -0.16753 , -1.0952  ,  0.24837 ,  0.20019 ,\n",
              "       -0.40866 , -0.48037 ,  0.10674 ,  0.5316  ,  1.111   , -0.19322 ,\n",
              "        1.4768  , -0.51783 , -0.79569 ,  1.7971  , -0.33392 , -0.14545 ,\n",
              "       -1.5454  ,  0.0135  ,  0.10684 , -0.30722 , -0.54572 ,  0.38938 ,\n",
              "        0.24659 , -0.85166 ,  0.54966 ,  0.82679 , -0.68081 , -0.77864 ,\n",
              "       -0.028242, -0.82872 ], dtype=float32)"
            ]
          },
          "metadata": {
            "tags": []
          },
          "execution_count": 25
        }
      ]
    },
    {
      "cell_type": "code",
      "metadata": {
        "id": "9UpI7mhEGx6J",
        "outputId": "4a5d3b27-4f16-4b58-a977-700f35370a65",
        "colab": {
          "base_uri": "https://localhost:8080/",
          "height": 168
        }
      },
      "source": [
        "model.get_vector('vocabulary')"
      ],
      "execution_count": 27,
      "outputs": [
        {
          "output_type": "execute_result",
          "data": {
            "text/plain": [
              "array([-0.40975 ,  0.14091 , -1.1001  , -0.71934 ,  0.38255 ,  0.42821 ,\n",
              "        0.27204 , -0.74735 , -0.80416 ,  0.60244 ,  0.52853 ,  0.43571 ,\n",
              "        0.84135 , -0.4106  , -0.33996 , -0.034945, -0.51291 ,  0.58942 ,\n",
              "        1.1016  , -0.31603 , -0.37732 ,  0.22156 , -0.46774 ,  0.46372 ,\n",
              "        1.0298  , -0.32891 , -1.1721  ,  0.022795,  0.10548 , -0.27759 ,\n",
              "        2.0419  , -0.53649 ,  0.45539 , -0.067378,  0.58818 ,  0.56012 ,\n",
              "       -0.6788  ,  0.19493 , -0.37379 ,  0.18017 ,  0.75873 , -0.18599 ,\n",
              "        0.1176  ,  0.61295 , -0.35261 ,  0.025468,  1.494   ,  1.4015  ,\n",
              "       -0.6125  , -0.34257 ], dtype=float32)"
            ]
          },
          "metadata": {
            "tags": []
          },
          "execution_count": 27
        }
      ]
    }
  ]
}