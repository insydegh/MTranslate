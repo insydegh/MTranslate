{
  "nbformat": 4,
  "nbformat_minor": 0,
  "metadata": {
    "colab": {
      "name": "singlefilernn.ipynb",
      "provenance": [],
      "collapsed_sections": []
    },
    "kernelspec": {
      "name": "python3",
      "display_name": "Python 3"
    }
  },
  "cells": [
    {
      "cell_type": "code",
      "metadata": {
        "id": "V3SG08AbXIlq"
      },
      "source": [
        "import numpy as np\n",
        "import librosa\n",
        "import tensorflow as tf\n",
        "import numpy as np\n",
        "from tensorflow import keras\n",
        "from keras.models import Sequential\n",
        "from keras.layers import Dense, LSTM\n",
        "from tensorflow.keras import layers\n",
        "from tensorflow.keras.layers.experimental import preprocessing"
      ],
      "execution_count": 2,
      "outputs": []
    },
    {
      "cell_type": "code",
      "metadata": {
        "id": "7i4r-lLAalbW"
      },
      "source": [
        ""
      ],
      "execution_count": 2,
      "outputs": []
    },
    {
      "cell_type": "markdown",
      "metadata": {
        "id": "0pu-ZPiwalBA"
      },
      "source": [
        ""
      ]
    },
    {
      "cell_type": "code",
      "metadata": {
        "id": "jJoom5fy5mda",
        "outputId": "4f33c2e0-b498-4306-8022-f512562f1fff",
        "colab": {
          "base_uri": "https://localhost:8080/",
          "height": 35
        }
      },
      "source": [
        "from google.colab import drive\n",
        "drive.mount('/content/gdrive')"
      ],
      "execution_count": 3,
      "outputs": [
        {
          "output_type": "stream",
          "text": [
            "Mounted at /content/gdrive\n"
          ],
          "name": "stdout"
        }
      ]
    },
    {
      "cell_type": "code",
      "metadata": {
        "id": "O2hFk1WrXO-X"
      },
      "source": [
        "Y, sr = librosa.load('/content/gdrive/My Drive/ru_data/icemarch/icemarch_0001.wav')\n",
        "loaded_sound_1 =  np.array((librosa.feature.mfcc(Y, sr=sr, S=None, n_mfcc=20)))\n"
      ],
      "execution_count": 4,
      "outputs": []
    },
    {
      "cell_type": "code",
      "metadata": {
        "id": "eTngYuRhiQ6Y",
        "outputId": "d8c89bf6-1cca-4c41-b1b0-12f04e871cb9",
        "colab": {
          "base_uri": "https://localhost:8080/",
          "height": 248
        }
      },
      "source": [
        "loaded_sound_1"
      ],
      "execution_count": 5,
      "outputs": [
        {
          "output_type": "execute_result",
          "data": {
            "text/plain": [
              "array([[-6.29850436e+02, -6.28280370e+02, -6.28404551e+02, ...,\n",
              "        -6.39005714e+02, -6.39005714e+02, -6.39005714e+02],\n",
              "       [-1.17727861e+00, -8.83244547e-01, -1.25705553e-01, ...,\n",
              "         0.00000000e+00,  0.00000000e+00,  0.00000000e+00],\n",
              "       [-1.01739918e+01, -1.24431884e+01, -1.28665308e+01, ...,\n",
              "         0.00000000e+00,  0.00000000e+00,  0.00000000e+00],\n",
              "       ...,\n",
              "       [ 2.40732906e+00,  2.72969223e+00,  4.03071263e+00, ...,\n",
              "         0.00000000e+00,  0.00000000e+00,  0.00000000e+00],\n",
              "       [ 6.57920358e+00,  1.00026874e+01,  1.05157440e+01, ...,\n",
              "         0.00000000e+00,  0.00000000e+00,  0.00000000e+00],\n",
              "       [-1.95568602e+00, -3.00618839e+00, -4.16553146e+00, ...,\n",
              "         0.00000000e+00,  0.00000000e+00,  0.00000000e+00]])"
            ]
          },
          "metadata": {
            "tags": []
          },
          "execution_count": 5
        }
      ]
    },
    {
      "cell_type": "code",
      "metadata": {
        "id": "eA7xGcC8cAnM"
      },
      "source": [
        "Y, sr = librosa.load('/content/gdrive/My Drive/ru_data/icemarch/icemarch_0002.wav')\n",
        "loaded_sound_2 = np.array((librosa.feature.mfcc(Y, sr=sr, S=None, n_mfcc=20)), ndmin= 3)"
      ],
      "execution_count": 6,
      "outputs": []
    },
    {
      "cell_type": "code",
      "metadata": {
        "id": "gDccfDLuiUK6",
        "outputId": "5afa2076-674b-48b7-9c86-dddea51fded8",
        "colab": {
          "base_uri": "https://localhost:8080/",
          "height": 248
        }
      },
      "source": [
        "loaded_sound_2"
      ],
      "execution_count": 7,
      "outputs": [
        {
          "output_type": "execute_result",
          "data": {
            "text/plain": [
              "array([[[-6.63832862e+02, -6.63832862e+02, -6.63832862e+02, ...,\n",
              "         -6.63832862e+02, -6.62466206e+02, -6.35300397e+02],\n",
              "        [ 0.00000000e+00,  0.00000000e+00,  0.00000000e+00, ...,\n",
              "          0.00000000e+00, -8.41531824e-01, -1.53585979e+01],\n",
              "        [ 0.00000000e+00,  0.00000000e+00,  0.00000000e+00, ...,\n",
              "          0.00000000e+00, -7.82618274e-01, -1.01441273e+01],\n",
              "        ...,\n",
              "        [ 0.00000000e+00,  0.00000000e+00,  0.00000000e+00, ...,\n",
              "          0.00000000e+00, -5.28596967e-01, -4.07689900e+00],\n",
              "        [ 0.00000000e+00,  0.00000000e+00,  0.00000000e+00, ...,\n",
              "          0.00000000e+00,  1.14477596e+00,  4.38128320e+00],\n",
              "        [ 0.00000000e+00,  0.00000000e+00,  0.00000000e+00, ...,\n",
              "          0.00000000e+00, -7.61135063e-02,  4.42990420e+00]]])"
            ]
          },
          "metadata": {
            "tags": []
          },
          "execution_count": 7
        }
      ]
    },
    {
      "cell_type": "code",
      "metadata": {
        "id": "n7sJdH5RfJ-S",
        "outputId": "a22f459e-4b89-4bb7-ef7a-f70f8a494faf",
        "colab": {
          "base_uri": "https://localhost:8080/",
          "height": 35
        }
      },
      "source": [
        "type(loaded_sound_2[0][0])"
      ],
      "execution_count": 8,
      "outputs": [
        {
          "output_type": "execute_result",
          "data": {
            "text/plain": [
              "numpy.ndarray"
            ]
          },
          "metadata": {
            "tags": []
          },
          "execution_count": 8
        }
      ]
    },
    {
      "cell_type": "code",
      "metadata": {
        "id": "XwbEkNkrH5vv",
        "outputId": "caeb7a78-9e8a-435a-e2b1-977cce57711e",
        "colab": {
          "base_uri": "https://localhost:8080/",
          "height": 35
        }
      },
      "source": [
        "loaded_sound_2.shape"
      ],
      "execution_count": 9,
      "outputs": [
        {
          "output_type": "execute_result",
          "data": {
            "text/plain": [
              "(1, 20, 407)"
            ]
          },
          "metadata": {
            "tags": []
          },
          "execution_count": 9
        }
      ]
    },
    {
      "cell_type": "code",
      "metadata": {
        "id": "Tn5tzbrTcLbO"
      },
      "source": [
        "Y, sr = librosa.load('/content/gdrive/My Drive/ru_data/icemarch/icemarch_0003.wav')\n",
        "loaded_sound_3 = np.array(((librosa.feature.mfcc(Y, sr=sr))))"
      ],
      "execution_count": 10,
      "outputs": []
    },
    {
      "cell_type": "code",
      "metadata": {
        "id": "zWzVM8h5iVDf",
        "outputId": "242e09f6-4757-46f1-a594-71126528aa45",
        "colab": {
          "base_uri": "https://localhost:8080/",
          "height": 248
        }
      },
      "source": [
        "loaded_sound_3"
      ],
      "execution_count": 11,
      "outputs": [
        {
          "output_type": "execute_result",
          "data": {
            "text/plain": [
              "array([[-5.28921772e+02, -4.92083552e+02, -4.52276971e+02, ...,\n",
              "        -6.31423134e+02, -6.30241276e+02, -6.30709332e+02],\n",
              "       [-3.85633769e+01, -5.12620742e+01, -5.53359874e+01, ...,\n",
              "         4.95763625e-01,  6.09557743e-01,  3.84437402e-01],\n",
              "       [-3.80098419e+01, -4.89200838e+01, -6.34206367e+01, ...,\n",
              "        -1.64483085e+00, -3.49760674e+00, -2.93886093e+00],\n",
              "       ...,\n",
              "       [-1.03767838e+01, -1.48231507e+01, -1.31106106e+01, ...,\n",
              "        -1.91464850e+00, -2.79973319e+00, -2.44698615e+00],\n",
              "       [ 6.56818530e+00,  6.73937817e+00,  1.09909053e+01, ...,\n",
              "         1.03611582e-01,  2.29377843e-01, -2.13153541e-01],\n",
              "       [-6.50014169e+00, -1.16150485e+00,  1.45602323e+00, ...,\n",
              "         1.80563390e+00,  3.14126552e+00,  2.71403709e+00]])"
            ]
          },
          "metadata": {
            "tags": []
          },
          "execution_count": 11
        }
      ]
    },
    {
      "cell_type": "code",
      "metadata": {
        "id": "dstRyCRljXZO",
        "outputId": "fcb011d8-8e11-4349-f991-0e2c8496d354",
        "colab": {
          "base_uri": "https://localhost:8080/",
          "height": 35
        }
      },
      "source": [
        "type(loaded_sound_2)"
      ],
      "execution_count": 12,
      "outputs": [
        {
          "output_type": "execute_result",
          "data": {
            "text/plain": [
              "numpy.ndarray"
            ]
          },
          "metadata": {
            "tags": []
          },
          "execution_count": 12
        }
      ]
    },
    {
      "cell_type": "code",
      "metadata": {
        "id": "6Bil4PlBcPib"
      },
      "source": [
        "y = 'книгу посвящаю горячо любимой матери часть первая с фронта до ростова'"
      ],
      "execution_count": 13,
      "outputs": []
    },
    {
      "cell_type": "code",
      "metadata": {
        "id": "3v6fvsLZ2nZf",
        "outputId": "d638c902-46cc-4ee0-e900-195ca8eb2981",
        "colab": {
          "base_uri": "https://localhost:8080/",
          "height": 36
        }
      },
      "source": [
        "y"
      ],
      "execution_count": 14,
      "outputs": [
        {
          "output_type": "execute_result",
          "data": {
            "application/vnd.google.colaboratory.intrinsic+json": {
              "type": "string"
            },
            "text/plain": [
              "'книгу посвящаю горячо любимой матери часть первая с фронта до ростова'"
            ]
          },
          "metadata": {
            "tags": []
          },
          "execution_count": 14
        }
      ]
    },
    {
      "cell_type": "code",
      "metadata": {
        "id": "OFBrg_f7ZBEH"
      },
      "source": [
        "vocabulary = { 'а': 1,\n",
        "               'б': 2,\n",
        "               'в': 3,\n",
        "               'г': 4,\n",
        "               'д': 5,\n",
        "               'е': 6,\n",
        "               'ё': 7,\n",
        "               'ж': 8,\n",
        "               'з': 9,\n",
        "               'и': 10,\n",
        "               'й': 11,\n",
        "               'к': 12,\n",
        "               'л': 13,\n",
        "               'м': 14,\n",
        "               'н': 15,\n",
        "               'о': 16,\n",
        "               'п': 17,\n",
        "               'р': 18,\n",
        "               'с': 19,\n",
        "               'т': 20,\n",
        "               'у': 21,\n",
        "               'ф': 22,\n",
        "               'х': 23,\n",
        "               'ц': 24,\n",
        "               'ч': 25,\n",
        "               'ш': 26,\n",
        "               'щ': 27,\n",
        "               'ъ': 28,\n",
        "               'ы': 29,\n",
        "               'ь': 30,\n",
        "               'э': 31,\n",
        "               'ю': 32,\n",
        "               'я': 33,\n",
        "               ' ': 34}\n",
        "\n",
        "inv_mapping = dict(zip(vocabulary.values(), vocabulary.keys()))\n"
      ],
      "execution_count": 15,
      "outputs": []
    },
    {
      "cell_type": "code",
      "metadata": {
        "id": "nnx3v2JV-29i"
      },
      "source": [
        "tr = []"
      ],
      "execution_count": 16,
      "outputs": []
    },
    {
      "cell_type": "code",
      "metadata": {
        "id": "JDGiIJ_P-Fkm",
        "outputId": "b97a329d-6b0e-45cc-8c70-320fb45aa7eb",
        "colab": {
          "base_uri": "https://localhost:8080/",
          "height": 55
        }
      },
      "source": [
        "for elem in y:\n",
        "  number = vocabulary[elem]\n",
        "  tr.append(number)\n",
        "print(tr)"
      ],
      "execution_count": 17,
      "outputs": [
        {
          "output_type": "stream",
          "text": [
            "[12, 15, 10, 4, 21, 34, 17, 16, 19, 3, 33, 27, 1, 32, 34, 4, 16, 18, 33, 25, 16, 34, 13, 32, 2, 10, 14, 16, 11, 34, 14, 1, 20, 6, 18, 10, 34, 25, 1, 19, 20, 30, 34, 17, 6, 18, 3, 1, 33, 34, 19, 34, 22, 18, 16, 15, 20, 1, 34, 5, 16, 34, 18, 16, 19, 20, 16, 3, 1]\n"
          ],
          "name": "stdout"
        }
      ]
    },
    {
      "cell_type": "code",
      "metadata": {
        "id": "GmTptxdtFj_1"
      },
      "source": [
        "tr = np.array(np.array(tr), ndmin= 2)"
      ],
      "execution_count": 18,
      "outputs": []
    },
    {
      "cell_type": "code",
      "metadata": {
        "id": "4RCttQss5xyu",
        "outputId": "216633f6-6d83-41ff-f532-fff5de9e1e5e",
        "colab": {
          "base_uri": "https://localhost:8080/",
          "height": 35
        }
      },
      "source": [
        "loaded_sound_2.shape"
      ],
      "execution_count": 19,
      "outputs": [
        {
          "output_type": "execute_result",
          "data": {
            "text/plain": [
              "(1, 20, 407)"
            ]
          },
          "metadata": {
            "tags": []
          },
          "execution_count": 19
        }
      ]
    },
    {
      "cell_type": "code",
      "metadata": {
        "id": "ee73-n8dE8Xq",
        "outputId": "b2d5090c-a91a-4076-c6bc-fb00f9b95aca",
        "colab": {
          "base_uri": "https://localhost:8080/",
          "height": 35
        }
      },
      "source": [
        "tr.shape\n"
      ],
      "execution_count": 20,
      "outputs": [
        {
          "output_type": "execute_result",
          "data": {
            "text/plain": [
              "(1, 69)"
            ]
          },
          "metadata": {
            "tags": []
          },
          "execution_count": 20
        }
      ]
    },
    {
      "cell_type": "code",
      "metadata": {
        "id": "9eUjyas5EO1b",
        "outputId": "a45fdd83-4e27-43d3-f603-2f4c70cc3450",
        "colab": {
          "base_uri": "https://localhost:8080/",
          "height": 35
        }
      },
      "source": [
        "len(tr)"
      ],
      "execution_count": 21,
      "outputs": [
        {
          "output_type": "execute_result",
          "data": {
            "text/plain": [
              "1"
            ]
          },
          "metadata": {
            "tags": []
          },
          "execution_count": 21
        }
      ]
    },
    {
      "cell_type": "code",
      "metadata": {
        "id": "17zi-WuR4uDW"
      },
      "source": [
        "model = Sequential()\n",
        "\n",
        "model.add(LSTM(units=512, batch_input_shape = (1,20,407),  return_sequences=True))\n",
        "model.add(LSTM(units=256,return_sequences=True))\n",
        "model.add(LSTM(units=128,return_sequences=True))\n",
        "model.add(LSTM(units=69))\n",
        "model.add(Dense(units=69, activation='relu'))\n",
        "model.add(Dense(units=69, activation= 'relu'))\n",
        "model.add(Dense(units=69, activation='softmax'))\n",
        "\n",
        "\n",
        "model.compile(loss='categorical_crossentropy', optimizer='adam', metrics=['accuracy'])\n",
        "\n"
      ],
      "execution_count": 22,
      "outputs": []
    },
    {
      "cell_type": "code",
      "metadata": {
        "id": "VRk-1PEqlKSQ",
        "outputId": "40355e3b-d317-4a2a-99c7-03914a0de96a",
        "colab": {
          "base_uri": "https://localhost:8080/",
          "height": 124
        }
      },
      "source": [
        "for layer in model.layers:\n",
        "    print(layer.output_shape)"
      ],
      "execution_count": 23,
      "outputs": [
        {
          "output_type": "stream",
          "text": [
            "(1, 20, 512)\n",
            "(1, 20, 256)\n",
            "(1, 20, 128)\n",
            "(1, 69)\n",
            "(1, 69)\n",
            "(1, 69)\n"
          ],
          "name": "stdout"
        }
      ]
    },
    {
      "cell_type": "code",
      "metadata": {
        "id": "tRvy7FnklJJ2",
        "outputId": "5310f25b-624b-4885-d1e6-62dfac67de72",
        "colab": {
          "base_uri": "https://localhost:8080/",
          "height": 1000
        }
      },
      "source": [
        "model.fit(loaded_sound_2, tr, epochs= 100)\n",
        "model.summary()"
      ],
      "execution_count": 24,
      "outputs": [
        {
          "output_type": "stream",
          "text": [
            "Epoch 1/100\n",
            "1/1 [==============================] - 0s 2ms/step - loss: 5207.0576 - accuracy: 0.0000e+00\n",
            "Epoch 2/100\n",
            "1/1 [==============================] - 0s 2ms/step - loss: 5211.1685 - accuracy: 0.0000e+00\n",
            "Epoch 3/100\n",
            "1/1 [==============================] - 0s 2ms/step - loss: 5248.1450 - accuracy: 0.0000e+00\n",
            "Epoch 4/100\n",
            "1/1 [==============================] - 0s 2ms/step - loss: 5272.6196 - accuracy: 0.0000e+00\n",
            "Epoch 5/100\n",
            "1/1 [==============================] - 0s 2ms/step - loss: 5293.0112 - accuracy: 0.0000e+00\n",
            "Epoch 6/100\n",
            "1/1 [==============================] - 0s 1ms/step - loss: 5321.5493 - accuracy: 0.0000e+00\n",
            "Epoch 7/100\n",
            "1/1 [==============================] - 0s 1ms/step - loss: 5356.8809 - accuracy: 0.0000e+00\n",
            "Epoch 8/100\n",
            "1/1 [==============================] - 0s 2ms/step - loss: 5401.3228 - accuracy: 0.0000e+00\n",
            "Epoch 9/100\n",
            "1/1 [==============================] - 0s 1ms/step - loss: 5450.9468 - accuracy: 0.0000e+00\n",
            "Epoch 10/100\n",
            "1/1 [==============================] - 0s 2ms/step - loss: 5501.6353 - accuracy: 0.0000e+00\n",
            "Epoch 11/100\n",
            "1/1 [==============================] - 0s 2ms/step - loss: 5555.2617 - accuracy: 0.0000e+00\n",
            "Epoch 12/100\n",
            "1/1 [==============================] - 0s 2ms/step - loss: 5613.0098 - accuracy: 0.0000e+00\n",
            "Epoch 13/100\n",
            "1/1 [==============================] - 0s 2ms/step - loss: 5674.6982 - accuracy: 0.0000e+00\n",
            "Epoch 14/100\n",
            "1/1 [==============================] - 0s 1ms/step - loss: 5740.1826 - accuracy: 0.0000e+00\n",
            "Epoch 15/100\n",
            "1/1 [==============================] - 0s 2ms/step - loss: 5809.0542 - accuracy: 0.0000e+00\n",
            "Epoch 16/100\n",
            "1/1 [==============================] - 0s 2ms/step - loss: 5881.0156 - accuracy: 0.0000e+00\n",
            "Epoch 17/100\n",
            "1/1 [==============================] - 0s 2ms/step - loss: 5955.4507 - accuracy: 0.0000e+00\n",
            "Epoch 18/100\n",
            "1/1 [==============================] - 0s 1ms/step - loss: 6031.0962 - accuracy: 0.0000e+00\n",
            "Epoch 19/100\n",
            "1/1 [==============================] - 0s 2ms/step - loss: 6108.8491 - accuracy: 0.0000e+00\n",
            "Epoch 20/100\n",
            "1/1 [==============================] - 0s 1ms/step - loss: 6188.3481 - accuracy: 0.0000e+00\n",
            "Epoch 21/100\n",
            "1/1 [==============================] - 0s 2ms/step - loss: 6268.8091 - accuracy: 0.0000e+00\n",
            "Epoch 22/100\n",
            "1/1 [==============================] - 0s 1ms/step - loss: 6349.5093 - accuracy: 0.0000e+00\n",
            "Epoch 23/100\n",
            "1/1 [==============================] - 0s 1ms/step - loss: 6430.2539 - accuracy: 0.0000e+00\n",
            "Epoch 24/100\n",
            "1/1 [==============================] - 0s 1ms/step - loss: 6510.6519 - accuracy: 0.0000e+00\n",
            "Epoch 25/100\n",
            "1/1 [==============================] - 0s 1ms/step - loss: 6591.3184 - accuracy: 0.0000e+00\n",
            "Epoch 26/100\n",
            "1/1 [==============================] - 0s 1ms/step - loss: 6672.1885 - accuracy: 0.0000e+00\n",
            "Epoch 27/100\n",
            "1/1 [==============================] - 0s 2ms/step - loss: 6753.3101 - accuracy: 0.0000e+00\n",
            "Epoch 28/100\n",
            "1/1 [==============================] - 0s 2ms/step - loss: 6834.6221 - accuracy: 0.0000e+00\n",
            "Epoch 29/100\n",
            "1/1 [==============================] - 0s 2ms/step - loss: 6916.5020 - accuracy: 0.0000e+00\n",
            "Epoch 30/100\n",
            "1/1 [==============================] - 0s 2ms/step - loss: 6998.7188 - accuracy: 0.0000e+00\n",
            "Epoch 31/100\n",
            "1/1 [==============================] - 0s 1ms/step - loss: 7081.4805 - accuracy: 0.0000e+00\n",
            "Epoch 32/100\n",
            "1/1 [==============================] - 0s 2ms/step - loss: 7164.9170 - accuracy: 0.0000e+00\n",
            "Epoch 33/100\n",
            "1/1 [==============================] - 0s 2ms/step - loss: 7249.2134 - accuracy: 0.0000e+00\n",
            "Epoch 34/100\n",
            "1/1 [==============================] - 0s 2ms/step - loss: 7334.4648 - accuracy: 0.0000e+00\n",
            "Epoch 35/100\n",
            "1/1 [==============================] - 0s 4ms/step - loss: 7419.9814 - accuracy: 0.0000e+00\n",
            "Epoch 36/100\n",
            "1/1 [==============================] - 0s 2ms/step - loss: 7506.6074 - accuracy: 0.0000e+00\n",
            "Epoch 37/100\n",
            "1/1 [==============================] - 0s 2ms/step - loss: 7594.4053 - accuracy: 0.0000e+00\n",
            "Epoch 38/100\n",
            "1/1 [==============================] - 0s 4ms/step - loss: 7683.3105 - accuracy: 0.0000e+00\n",
            "Epoch 39/100\n",
            "1/1 [==============================] - 0s 1ms/step - loss: 7773.2578 - accuracy: 0.0000e+00\n",
            "Epoch 40/100\n",
            "1/1 [==============================] - 0s 1ms/step - loss: 7864.3267 - accuracy: 0.0000e+00\n",
            "Epoch 41/100\n",
            "1/1 [==============================] - 0s 2ms/step - loss: 7956.6938 - accuracy: 0.0000e+00\n",
            "Epoch 42/100\n",
            "1/1 [==============================] - 0s 2ms/step - loss: 8050.4990 - accuracy: 0.0000e+00\n",
            "Epoch 43/100\n",
            "1/1 [==============================] - 0s 2ms/step - loss: 8145.8311 - accuracy: 0.0000e+00\n",
            "Epoch 44/100\n",
            "1/1 [==============================] - 0s 2ms/step - loss: 8242.7754 - accuracy: 0.0000e+00\n",
            "Epoch 45/100\n",
            "1/1 [==============================] - 0s 2ms/step - loss: 8341.4580 - accuracy: 0.0000e+00\n",
            "Epoch 46/100\n",
            "1/1 [==============================] - 0s 2ms/step - loss: 8442.0430 - accuracy: 0.0000e+00\n",
            "Epoch 47/100\n",
            "1/1 [==============================] - 0s 2ms/step - loss: 8544.6895 - accuracy: 0.0000e+00\n",
            "Epoch 48/100\n",
            "1/1 [==============================] - 0s 4ms/step - loss: 8649.4473 - accuracy: 0.0000e+00\n",
            "Epoch 49/100\n",
            "1/1 [==============================] - 0s 2ms/step - loss: 8756.0928 - accuracy: 0.0000e+00\n",
            "Epoch 50/100\n",
            "1/1 [==============================] - 0s 1ms/step - loss: 8864.0869 - accuracy: 0.0000e+00\n",
            "Epoch 51/100\n",
            "1/1 [==============================] - 0s 1ms/step - loss: 8972.8438 - accuracy: 0.0000e+00\n",
            "Epoch 52/100\n",
            "1/1 [==============================] - 0s 1ms/step - loss: 9082.1357 - accuracy: 0.0000e+00\n",
            "Epoch 53/100\n",
            "1/1 [==============================] - 0s 1ms/step - loss: 9192.1982 - accuracy: 0.0000e+00\n",
            "Epoch 54/100\n",
            "1/1 [==============================] - 0s 1ms/step - loss: 9303.3721 - accuracy: 0.0000e+00\n",
            "Epoch 55/100\n",
            "1/1 [==============================] - 0s 2ms/step - loss: 9415.8633 - accuracy: 0.0000e+00\n",
            "Epoch 56/100\n",
            "1/1 [==============================] - 0s 1ms/step - loss: 9529.7666 - accuracy: 0.0000e+00\n",
            "Epoch 57/100\n",
            "1/1 [==============================] - 0s 1ms/step - loss: 9645.1260 - accuracy: 0.0000e+00\n",
            "Epoch 58/100\n",
            "1/1 [==============================] - 0s 2ms/step - loss: 9761.9834 - accuracy: 0.0000e+00\n",
            "Epoch 59/100\n",
            "1/1 [==============================] - 0s 2ms/step - loss: 9880.3525 - accuracy: 0.0000e+00\n",
            "Epoch 60/100\n",
            "1/1 [==============================] - 0s 4ms/step - loss: 10000.2549 - accuracy: 0.0000e+00\n",
            "Epoch 61/100\n",
            "1/1 [==============================] - 0s 1ms/step - loss: 10121.6865 - accuracy: 0.0000e+00\n",
            "Epoch 62/100\n",
            "1/1 [==============================] - 0s 1ms/step - loss: 10244.6572 - accuracy: 0.0000e+00\n",
            "Epoch 63/100\n",
            "1/1 [==============================] - 0s 2ms/step - loss: 10369.1582 - accuracy: 0.0000e+00\n",
            "Epoch 64/100\n",
            "1/1 [==============================] - 0s 1ms/step - loss: 10495.1885 - accuracy: 0.0000e+00\n",
            "Epoch 65/100\n",
            "1/1 [==============================] - 0s 3ms/step - loss: 10622.7354 - accuracy: 0.0000e+00\n",
            "Epoch 66/100\n",
            "1/1 [==============================] - 0s 2ms/step - loss: 10751.7910 - accuracy: 0.0000e+00\n",
            "Epoch 67/100\n",
            "1/1 [==============================] - 0s 4ms/step - loss: 10882.3418 - accuracy: 0.0000e+00\n",
            "Epoch 68/100\n",
            "1/1 [==============================] - 0s 1ms/step - loss: 11014.3701 - accuracy: 0.0000e+00\n",
            "Epoch 69/100\n",
            "1/1 [==============================] - 0s 1ms/step - loss: 11147.8682 - accuracy: 0.0000e+00\n",
            "Epoch 70/100\n",
            "1/1 [==============================] - 0s 2ms/step - loss: 11282.8105 - accuracy: 0.0000e+00\n",
            "Epoch 71/100\n",
            "1/1 [==============================] - 0s 1ms/step - loss: 11419.1855 - accuracy: 0.0000e+00\n",
            "Epoch 72/100\n",
            "1/1 [==============================] - 0s 1ms/step - loss: 11556.9727 - accuracy: 0.0000e+00\n",
            "Epoch 73/100\n",
            "1/1 [==============================] - 0s 1ms/step - loss: 11696.1523 - accuracy: 0.0000e+00\n",
            "Epoch 74/100\n",
            "1/1 [==============================] - 0s 1ms/step - loss: 11836.7051 - accuracy: 0.0000e+00\n",
            "Epoch 75/100\n",
            "1/1 [==============================] - 0s 2ms/step - loss: 11978.6016 - accuracy: 0.0000e+00\n",
            "Epoch 76/100\n",
            "1/1 [==============================] - 0s 2ms/step - loss: 12121.8379 - accuracy: 0.0000e+00\n",
            "Epoch 77/100\n",
            "1/1 [==============================] - 0s 1ms/step - loss: 12266.3770 - accuracy: 0.0000e+00\n",
            "Epoch 78/100\n",
            "1/1 [==============================] - 0s 1ms/step - loss: 12412.2051 - accuracy: 0.0000e+00\n",
            "Epoch 79/100\n",
            "1/1 [==============================] - 0s 1ms/step - loss: 12559.2939 - accuracy: 0.0000e+00\n",
            "Epoch 80/100\n",
            "1/1 [==============================] - 0s 2ms/step - loss: 12707.6143 - accuracy: 0.0000e+00\n",
            "Epoch 81/100\n",
            "1/1 [==============================] - 0s 5ms/step - loss: 12857.1523 - accuracy: 0.0000e+00\n",
            "Epoch 82/100\n",
            "1/1 [==============================] - 0s 1ms/step - loss: 13007.8799 - accuracy: 0.0000e+00\n",
            "Epoch 83/100\n",
            "1/1 [==============================] - 0s 2ms/step - loss: 13159.7725 - accuracy: 0.0000e+00\n",
            "Epoch 84/100\n",
            "1/1 [==============================] - 0s 2ms/step - loss: 13312.8037 - accuracy: 0.0000e+00\n",
            "Epoch 85/100\n",
            "1/1 [==============================] - 0s 2ms/step - loss: 13466.9395 - accuracy: 0.0000e+00\n",
            "Epoch 86/100\n",
            "1/1 [==============================] - 0s 2ms/step - loss: 13622.1611 - accuracy: 0.0000e+00\n",
            "Epoch 87/100\n",
            "1/1 [==============================] - 0s 1ms/step - loss: 13778.4482 - accuracy: 0.0000e+00\n",
            "Epoch 88/100\n",
            "1/1 [==============================] - 0s 2ms/step - loss: 13935.7637 - accuracy: 0.0000e+00\n",
            "Epoch 89/100\n",
            "1/1 [==============================] - 0s 1ms/step - loss: 14094.0830 - accuracy: 0.0000e+00\n",
            "Epoch 90/100\n",
            "1/1 [==============================] - 0s 3ms/step - loss: 14253.3730 - accuracy: 0.0000e+00\n",
            "Epoch 91/100\n",
            "1/1 [==============================] - 0s 2ms/step - loss: 14413.6113 - accuracy: 0.0000e+00\n",
            "Epoch 92/100\n",
            "1/1 [==============================] - 0s 2ms/step - loss: 14574.7773 - accuracy: 0.0000e+00\n",
            "Epoch 93/100\n",
            "1/1 [==============================] - 0s 2ms/step - loss: 14736.8340 - accuracy: 0.0000e+00\n",
            "Epoch 94/100\n",
            "1/1 [==============================] - 0s 2ms/step - loss: 14899.7500 - accuracy: 0.0000e+00\n",
            "Epoch 95/100\n",
            "1/1 [==============================] - 0s 4ms/step - loss: 15063.5078 - accuracy: 0.0000e+00\n",
            "Epoch 96/100\n",
            "1/1 [==============================] - 0s 2ms/step - loss: 15228.0625 - accuracy: 0.0000e+00\n",
            "Epoch 97/100\n",
            "1/1 [==============================] - 0s 4ms/step - loss: 15393.4004 - accuracy: 0.0000e+00\n",
            "Epoch 98/100\n",
            "1/1 [==============================] - 0s 2ms/step - loss: 15559.4951 - accuracy: 0.0000e+00\n",
            "Epoch 99/100\n",
            "1/1 [==============================] - 0s 1ms/step - loss: 15726.3047 - accuracy: 0.0000e+00\n",
            "Epoch 100/100\n",
            "1/1 [==============================] - 0s 1ms/step - loss: 15893.8066 - accuracy: 0.0000e+00\n",
            "Model: \"sequential\"\n",
            "_________________________________________________________________\n",
            "Layer (type)                 Output Shape              Param #   \n",
            "=================================================================\n",
            "lstm (LSTM)                  (1, 20, 512)              1884160   \n",
            "_________________________________________________________________\n",
            "lstm_1 (LSTM)                (1, 20, 256)              787456    \n",
            "_________________________________________________________________\n",
            "lstm_2 (LSTM)                (1, 20, 128)              197120    \n",
            "_________________________________________________________________\n",
            "lstm_3 (LSTM)                (1, 69)                   54648     \n",
            "_________________________________________________________________\n",
            "dense (Dense)                (1, 69)                   4830      \n",
            "_________________________________________________________________\n",
            "dense_1 (Dense)              (1, 69)                   4830      \n",
            "=================================================================\n",
            "Total params: 2,933,044\n",
            "Trainable params: 2,933,044\n",
            "Non-trainable params: 0\n",
            "_________________________________________________________________\n"
          ],
          "name": "stdout"
        }
      ]
    },
    {
      "cell_type": "code",
      "metadata": {
        "id": "7lDtpAynlJ6z",
        "outputId": "78edcc38-7361-48d0-f4c2-0cea5493f1ea",
        "colab": {
          "base_uri": "https://localhost:8080/",
          "height": 337
        }
      },
      "source": [
        "model.predict(loaded_sound_2)"
      ],
      "execution_count": 25,
      "outputs": [
        {
          "output_type": "execute_result",
          "data": {
            "text/plain": [
              "array([[1.97416288e-08, 1.49857784e-02, 1.15883751e-02, 1.29294676e-06,\n",
              "        1.17487316e-05, 1.86414234e-02, 7.23465753e-04, 1.29299405e-09,\n",
              "        8.10053450e-07, 8.29308818e-04, 3.26784537e-08, 4.38750980e-10,\n",
              "        1.13377885e-08, 7.61266332e-04, 8.68543069e-08, 5.86283910e-08,\n",
              "        6.74845342e-06, 2.75652013e-07, 1.70143323e-07, 5.63867190e-14,\n",
              "        9.77322969e-08, 3.14373665e-07, 1.21667526e-05, 1.27699878e-10,\n",
              "        1.13481586e-03, 1.31421416e-07, 8.03442202e-09, 1.52888063e-10,\n",
              "        1.56355425e-04, 1.85717379e-08, 7.29629319e-05, 3.83901388e-05,\n",
              "        2.07067989e-02, 1.60345022e-04, 6.99315115e-06, 4.31882063e-06,\n",
              "        2.28655463e-05, 1.34672504e-07, 1.33266271e-12, 1.23325549e-03,\n",
              "        7.38531307e-05, 2.46151738e-10, 4.28356742e-03, 4.17708382e-02,\n",
              "        3.81128993e-05, 5.34156803e-04, 9.80292407e-06, 9.66649259e-06,\n",
              "        6.80717421e-05, 1.23812833e-05, 5.90516984e-01, 1.09892768e-04,\n",
              "        2.88929105e-01, 1.05998458e-06, 4.08098322e-06, 2.09852460e-05,\n",
              "        2.43659439e-08, 9.10888254e-09, 8.75573832e-12, 7.38655873e-11,\n",
              "        3.12085490e-07, 2.50120508e-03, 1.86837369e-07, 2.37448390e-07,\n",
              "        5.38267102e-08, 1.17355175e-05, 2.80613222e-06, 1.40166828e-11,\n",
              "        2.93246227e-09]], dtype=float32)"
            ]
          },
          "metadata": {
            "tags": []
          },
          "execution_count": 25
        }
      ]
    },
    {
      "cell_type": "code",
      "metadata": {
        "id": "6IsZL6CG4t9o"
      },
      "source": [
        ""
      ],
      "execution_count": 25,
      "outputs": []
    },
    {
      "cell_type": "code",
      "metadata": {
        "id": "W7v_t0Uj1XLi"
      },
      "source": [
        ""
      ],
      "execution_count": 25,
      "outputs": []
    }
  ]
}