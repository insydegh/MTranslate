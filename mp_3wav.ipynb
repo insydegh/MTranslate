{
  "nbformat": 4,
  "nbformat_minor": 0,
  "metadata": {
    "colab": {
      "name": "mp-3wav.ipynb",
      "provenance": []
    },
    "kernelspec": {
      "name": "python3",
      "display_name": "Python 3"
    }
  },
  "cells": [
    {
      "cell_type": "code",
      "metadata": {
        "id": "_C5DLZe0zTkD",
        "outputId": "07130c55-c03b-41e5-dfa5-7d89667c6dee",
        "colab": {
          "base_uri": "https://localhost:8080/",
          "height": 34
        }
      },
      "source": [
        "pip install pydub\n"
      ],
      "execution_count": null,
      "outputs": [
        {
          "output_type": "stream",
          "text": [
            "Requirement already satisfied: pydub in /usr/local/lib/python3.6/dist-packages (0.24.1)\n"
          ],
          "name": "stdout"
        }
      ]
    },
    {
      "cell_type": "code",
      "metadata": {
        "id": "VyaEP1fg5OIR"
      },
      "source": [
        "from os import *"
      ],
      "execution_count": null,
      "outputs": []
    },
    {
      "cell_type": "code",
      "metadata": {
        "id": "TV3aYFPP0I72",
        "outputId": "9171da95-87e7-4ef7-b70c-9b04676bca8b",
        "colab": {
          "base_uri": "https://localhost:8080/",
          "height": 34
        }
      },
      "source": [
        "from google.colab import drive\n",
        "drive.mount('/content/gdrive')"
      ],
      "execution_count": 13,
      "outputs": [
        {
          "output_type": "stream",
          "text": [
            "Drive already mounted at /content/gdrive; to attempt to forcibly remount, call drive.mount(\"/content/gdrive\", force_remount=True).\n"
          ],
          "name": "stdout"
        }
      ]
    },
    {
      "cell_type": "code",
      "metadata": {
        "id": "RMBXbZN-0SMa"
      },
      "source": [
        "path = '/content/gdrive/My Drive/cv-invalid/'\n",
        "soundlist = sorted(listdir(path))\n"
      ],
      "execution_count": null,
      "outputs": []
    },
    {
      "cell_type": "code",
      "metadata": {
        "id": "vGuZH46321Je",
        "outputId": "f10dbfab-0400-4999-cf82-92609e19b721",
        "colab": {
          "base_uri": "https://localhost:8080/",
          "height": 34
        }
      },
      "source": [
        "from os import path\n",
        "from pydub import AudioSegment\n",
        "\n",
        "# files                                                                         \n",
        "src = \"/content/gdrive/My Drive/cv-invalid/sample-000000.mp3\"\n",
        "dst = \"/content/gdrive/My Drive/re-cv/sample-000000.wav\"\n",
        "\n",
        "# convert wav to mp3                                                            \n",
        "sound = AudioSegment.from_mp3(src)\n",
        "sound.export(dst, format=\"wav\")"
      ],
      "execution_count": 18,
      "outputs": [
        {
          "output_type": "execute_result",
          "data": {
            "text/plain": [
              "<_io.BufferedRandom name='/content/gdrive/My Drive/re-cv/sample-000000.wav'>"
            ]
          },
          "metadata": {
            "tags": []
          },
          "execution_count": 18
        }
      ]
    }
  ]
}