{
 "cells": [
  {
   "cell_type": "code",
   "execution_count": null,
   "metadata": {
    "scrolled": true
   },
   "outputs": [],
   "source": [
    "\n"
   ]
  },
  {
   "cell_type": "code",
   "execution_count": null,
   "metadata": {},
   "outputs": [],
   "source": [
    "import librosa\n",
    "from os import listdir\n",
    "import numpy as np\n",
    "from sklearn.model_selection import train_test_split\n",
    "from keras.models import Sequential\n",
    "from keras.layers import Dense, LSTM\n",
    "\n",
    "\n",
    "def loadSound(path):\n",
    "    soundList = listdir(path)\n",
    "    loadedSound = []\n",
    "    for sound in soundList:\n",
    "        Y, sr = librosa.load(path + sound)\n",
    "        loadedSound.append(librosa.feature.mfcc(Y, sr=sr))\n",
    "    return np.array(loadedSound)\n",
    "\n",
    "\n",
    "one = loadSound('./voice_123/one/')\n",
    "one = loadSound('./voice_123/one/')\n",
    "two = loadSound('./voice_123/two/')\n",
    "three = loadSound('./voice_123/three/')\n",
    "X = np.concatenate((one, two, three), axis=0)\n",
    "one_label = np.concatenate((np.ones(10), np.zeros(10), np.zeros(10)))\n",
    "two_label = np.concatenate((np.zeros(10), np.ones(10), np.zeros(10)))\n",
    "three_label = np.concatenate((np.zeros(10), np.zeros(10), np.ones(10)))\n",
    "y = np.concatenate((one_label[:, None], two_label[:, None], three_label[:, None]), axis=1)\n",
    "X_train, X_test, y_train, y_test = train_test_split(X, y, test_size=0.1, random_state=42)\n",
    "\n",
    "model = Sequential()\n",
    "model.add(LSTM(units=256,return_sequences=True))\n",
    "model.add(LSTM(units=128,return_sequences=True))\n",
    "model.add(LSTM(units=64,return_sequences=True))\n",
    "model.add(LSTM(units=32))\n",
    "model.add(Dense(units=128, activation='relu'))\n",
    "model.add(Dense(units=64, activation='relu'))\n",
    "model.add(Dense(units=32, activation='relu'))\n",
    "model.add(Dense(units=3, activation='softmax'))\n",
    "\n",
    "model.compile(loss='categorical_crossentropy', optimizer='adam', metrics=['accuracy'])\n",
    "model.fit(X_train, y_train, epochs=10000,validation_data=(X_test, y_test))"
   ]
  },
  {
   "cell_type": "code",
   "execution_count": null,
   "metadata": {},
   "outputs": [],
   "source": []
  }
 ],
 "metadata": {
  "kernelspec": {
   "display_name": "Python 3",
   "language": "python",
   "name": "python3"
  },
  "language_info": {
   "codemirror_mode": {
    "name": "ipython",
    "version": 3
   },
   "file_extension": ".py",
   "mimetype": "text/x-python",
   "name": "python",
   "nbconvert_exporter": "python",
   "pygments_lexer": "ipython3",
   "version": "3.8.3"
  }
 },
 "nbformat": 4,
 "nbformat_minor": 4
}
