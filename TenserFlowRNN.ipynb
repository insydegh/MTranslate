{
 "cells": [
  {
   "cell_type": "code",
   "execution_count": 1,
   "metadata": {},
   "outputs": [
    {
     "name": "stdout",
     "output_type": "stream",
     "text": [
      "Requirement already satisfied: librosa in c:\\users\\fokus\\anaconda3\\lib\\site-packages (0.8.0)\n",
      "Requirement already satisfied: pooch>=1.0 in c:\\users\\fokus\\anaconda3\\lib\\site-packages (from librosa) (1.2.0)\n",
      "Requirement already satisfied: resampy>=0.2.2 in c:\\users\\fokus\\anaconda3\\lib\\site-packages (from librosa) (0.2.2)\n",
      "Requirement already satisfied: numpy>=1.15.0 in c:\\users\\fokus\\anaconda3\\lib\\site-packages (from librosa) (1.18.5)\n",
      "Requirement already satisfied: scipy>=1.0.0 in c:\\users\\fokus\\anaconda3\\lib\\site-packages (from librosa) (1.5.0)\n",
      "Requirement already satisfied: numba>=0.43.0 in c:\\users\\fokus\\anaconda3\\lib\\site-packages (from librosa) (0.50.1)\n",
      "Requirement already satisfied: audioread>=2.0.0 in c:\\users\\fokus\\anaconda3\\lib\\site-packages (from librosa) (2.1.8)\n",
      "Requirement already satisfied: soundfile>=0.9.0 in c:\\users\\fokus\\anaconda3\\lib\\site-packages (from librosa) (0.10.3.post1)\n",
      "Requirement already satisfied: joblib>=0.14 in c:\\users\\fokus\\anaconda3\\lib\\site-packages (from librosa) (0.16.0)\n",
      "Requirement already satisfied: decorator>=3.0.0 in c:\\users\\fokus\\anaconda3\\lib\\site-packages (from librosa) (4.4.2)\n",
      "Requirement already satisfied: scikit-learn!=0.19.0,>=0.14.0 in c:\\users\\fokus\\anaconda3\\lib\\site-packages (from librosa) (0.23.1)\n",
      "Requirement already satisfied: appdirs in c:\\users\\fokus\\anaconda3\\lib\\site-packages (from pooch>=1.0->librosa) (1.4.4)\n",
      "Requirement already satisfied: packaging in c:\\users\\fokus\\anaconda3\\lib\\site-packages (from pooch>=1.0->librosa) (20.4)\n",
      "Requirement already satisfied: requests in c:\\users\\fokus\\anaconda3\\lib\\site-packages (from pooch>=1.0->librosa) (2.24.0)\n",
      "Requirement already satisfied: six>=1.3 in c:\\users\\fokus\\anaconda3\\lib\\site-packages (from resampy>=0.2.2->librosa) (1.15.0)\n",
      "Requirement already satisfied: llvmlite<0.34,>=0.33.0.dev0 in c:\\users\\fokus\\anaconda3\\lib\\site-packages (from numba>=0.43.0->librosa) (0.33.0+1.g022ab0f)\n",
      "Requirement already satisfied: setuptools in c:\\users\\fokus\\anaconda3\\lib\\site-packages (from numba>=0.43.0->librosa) (49.2.0.post20200714)\n",
      "Requirement already satisfied: cffi>=1.0 in c:\\users\\fokus\\anaconda3\\lib\\site-packages (from soundfile>=0.9.0->librosa) (1.14.0)\n",
      "Requirement already satisfied: threadpoolctl>=2.0.0 in c:\\users\\fokus\\anaconda3\\lib\\site-packages (from scikit-learn!=0.19.0,>=0.14.0->librosa) (2.1.0)\n",
      "Requirement already satisfied: pyparsing>=2.0.2 in c:\\users\\fokus\\anaconda3\\lib\\site-packages (from packaging->pooch>=1.0->librosa) (2.4.7)\n",
      "Requirement already satisfied: urllib3!=1.25.0,!=1.25.1,<1.26,>=1.21.1 in c:\\users\\fokus\\anaconda3\\lib\\site-packages (from requests->pooch>=1.0->librosa) (1.25.9)\n",
      "Requirement already satisfied: certifi>=2017.4.17 in c:\\users\\fokus\\anaconda3\\lib\\site-packages (from requests->pooch>=1.0->librosa) (2020.6.20)\n",
      "Requirement already satisfied: chardet<4,>=3.0.2 in c:\\users\\fokus\\anaconda3\\lib\\site-packages (from requests->pooch>=1.0->librosa) (3.0.4)\n",
      "Requirement already satisfied: idna<3,>=2.5 in c:\\users\\fokus\\anaconda3\\lib\\site-packages (from requests->pooch>=1.0->librosa) (2.10)\n",
      "Requirement already satisfied: pycparser in c:\\users\\fokus\\anaconda3\\lib\\site-packages (from cffi>=1.0->soundfile>=0.9.0->librosa) (2.20)\n",
      "Note: you may need to restart the kernel to use updated packages.\n"
     ]
    }
   ],
   "source": [
    "pip install librosa\n"
   ]
  },
  {
   "cell_type": "code",
   "execution_count": null,
   "metadata": {},
   "outputs": [],
   "source": [
    "import librosa\n",
    "from os import listdir\n",
    "import numpy as np\n",
    "from sklearn.model_selection import train_test_split\n",
    "import tensorflow as tf\n",
    "\n",
    "\n",
    "def loadSound(path):\n",
    "    soundList = listdir(path)\n",
    "    loadedSound = []\n",
    "    for sound in soundList:\n",
    "        Y, sr = librosa.load(path + sound)\n",
    "        loadedSound.append(librosa.feature.mfcc(Y, sr=sr))\n",
    "    return np.array(loadedSound)\n",
    "\n",
    "\n",
    "one = loadSound('./voice_123/one/')\n",
    "two = loadSound('./voice_123/two/')\n",
    "three = loadSound('./voice_123/three/')\n",
    "X = np.concatenate((one, two, three), axis=0)\n",
    "X.shape\n",
    "one_label = np.concatenate((np.ones(10), np.zeros(10), np.zeros(10)))\n",
    "two_label = np.concatenate((np.zeros(10), np.ones(10), np.zeros(10)))\n",
    "three_label = np.concatenate((np.zeros(10), np.zeros(10), np.ones(10)))\n",
    "y = np.concatenate((one_label[:, None], two_label[:, None], three_label[:, None]), axis=1)\n",
    "X_train, X_test, y_train, y_test = train_test_split(X, y, test_size=0.1, random_state=42)\n",
    "X_train = X_train.swapaxes(1,0)\n",
    "X_test = X_test.swapaxes(1,0)\n",
    "y_train.shape\n",
    "X_train_placeholder = tf.placeholder(dtype=tf.float32,shape=[None, None, 87])\n",
    "y_train_placeholder = tf.placeholder(dtype=tf.float32, shape=[None, 3])\n",
    "\n",
    "\n",
    "def RNN(x, output_size, num_hidden, timesteps):\n",
    "    output = tf.Variable((0, 0), trainable=False, validate_shape=False, dtype=tf.float32)\n",
    "    lstm_cell = tf.nn.rnn_cell.LSTMCell(num_hidden, activation=\"tanh\")\n",
    "    state = lstm_cell.zero_state(batch_size=output_size, dtype=tf.float32)\n",
    "    for batch in range(timesteps):\n",
    "        output, state = lstm_cell(x[batch], state)\n",
    "    return output\n",
    "\n",
    "\n",
    "nn = RNN(X_train_placeholder, 27, 256, 20)\n",
    "nn = tf.layers.dense(nn, 128, activation='relu')\n",
    "nn = tf.layers.dense(nn, 64, activation='relu')\n",
    "nn = tf.layers.dense(nn, 32, activation='relu')\n",
    "nn = tf.layers.dense(nn, 3, activation='relu')\n",
    "\n",
    "cross_entropy = tf.reduce_mean(tf.nn.softmax_cross_entropy_with_logits_v2(labels=y_train_placeholder, logits=nn))\n",
    "optimizer = tf.train.AdamOptimizer(learning_rate=0.0001).minimize(cross_entropy)\n",
    "init = tf.global_variables_initializer()\n",
    "\n",
    "with tf.Session() as sess:\n",
    "    sess.run(init)\n",
    "    for i in range(2000):\n",
    "        _, loss_val = sess.run([optimizer,cross_entropy], feed_dict={X_train_placeholder: X_train, y_train_placeholder:y_train})\n",
    "        if i%2 == 0:\n",
    "            matches = tf.equal(tf.argmax(nn,1),tf.argmax(y_train_placeholder,1))\n",
    "            acc = tf.reduce_mean(tf.cast(matches,tf.float32))\n",
    "            print('Currently on step {}'.format(i))\n",
    "            print('Loss: ', str(loss_val))\n",
    "            print('Training accuracy is:')\n",
    "            print(sess.run(acc,feed_dict={X_train_placeholder: X_train, y_train_placeholder: y_train}))\n",
    "            \n"
   ]
  },
  {
   "cell_type": "code",
   "execution_count": null,
   "metadata": {},
   "outputs": [],
   "source": []
  }
 ],
 "metadata": {
  "kernelspec": {
   "display_name": "Python 3",
   "language": "python",
   "name": "python3"
  },
  "language_info": {
   "codemirror_mode": {
    "name": "ipython",
    "version": 3
   },
   "file_extension": ".py",
   "mimetype": "text/x-python",
   "name": "python",
   "nbconvert_exporter": "python",
   "pygments_lexer": "ipython3",
   "version": "3.8.3"
  }
 },
 "nbformat": 4,
 "nbformat_minor": 4
}
