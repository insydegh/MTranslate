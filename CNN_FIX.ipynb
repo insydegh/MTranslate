{
  "nbformat": 4,
  "nbformat_minor": 0,
  "metadata": {
    "colab": {
      "name": "CNN-FIX.ipynb",
      "provenance": []
    },
    "kernelspec": {
      "display_name": "Python 3",
      "name": "python3"
    }
  },
  "cells": [
    {
      "cell_type": "code",
      "metadata": {
        "id": "yPFA8_KQKbRJ"
      },
      "source": [
        "import pandas as pd\n",
        "import numpy as np\n",
        "import tensorflow as tf\n",
        "from os import *\n",
        "import librosa\n",
        "from sklearn.model_selection import train_test_split\n",
        "from keras.optimizers import Adam\n",
        "from keras.models import Sequential\n",
        "from keras.layers import Dense, LSTM, Dropout, Flatten \n",
        "import tensorflow.keras.backend as K\n",
        "from tensorflow.keras.layers.experimental import preprocessing\n",
        "from keras.utils import to_categorical\n",
        "\n",
        "\n",
        "\n",
        "from tensorflow.python.keras.preprocessing.image import ImageDataGenerator\n",
        "from tensorflow.python.keras.models import Sequential\n",
        "from tensorflow.python.keras.layers import Conv2D, MaxPooling2D, AveragePooling2D\n",
        "from tensorflow.python.keras.layers import Activation, Dropout, Flatten, Dense\n",
        "from keras.layers import LeakyReLU\n",
        "import matplotlib.pyplot as plt\n",
        "from sklearn.metrics import log_loss\n",
        "from tensorflow.keras.models import load_model"
      ],
      "execution_count": null,
      "outputs": []
    },
    {
      "cell_type": "code",
      "metadata": {
        "id": "dPpekibrdeKc"
      },
      "source": [
        "from tensorflow.keras.models import load_model\n",
        "from google.colab import files\n",
        "from IPython.display import Image\n",
        "from tensorflow.keras.preprocessing import image\n",
        "import numpy as np"
      ],
      "execution_count": null,
      "outputs": []
    },
    {
      "cell_type": "code",
      "metadata": {
        "id": "qBQZJzcmKemh",
        "colab": {
          "base_uri": "https://localhost:8080/"
        },
        "outputId": "551bb8e0-68a3-4367-e67f-461d28394a7b"
      },
      "source": [
        "from google.colab import drive\n",
        "drive.mount('/content/gdrive')"
      ],
      "execution_count": null,
      "outputs": [
        {
          "output_type": "stream",
          "text": [
            "Mounted at /content/gdrive\n"
          ],
          "name": "stdout"
        }
      ]
    },
    {
      "cell_type": "code",
      "metadata": {
        "id": "emOfCMYgKkyl"
      },
      "source": [
        "from keras.preprocessing.image import ImageDataGenerator"
      ],
      "execution_count": null,
      "outputs": []
    },
    {
      "cell_type": "code",
      "metadata": {
        "id": "RMRfIK8wKniH"
      },
      "source": [
        "# Каталог с данными для обучения\n",
        "train_dir = '/content/gdrive/My Drive/train'\n",
        "# Каталог с данными для проверки\n",
        "val_dir = '/content/gdrive/My Drive/val'\n",
        "# Каталог с данными для тестирования\n",
        "test_dir = '/content/gdrive/My Drive/test'\n",
        "# Размеры изображения\n",
        "img_width, img_height = 432, 288\n",
        "# Размерность тензора на основе изображения для входных данных в нейронную сеть\n",
        "# backend Tensorflow, channels_last\n",
        "input_shape = (img_width, img_height, 3)"
      ],
      "execution_count": null,
      "outputs": []
    },
    {
      "cell_type": "code",
      "metadata": {
        "id": "Hcv7kan4KoMS"
      },
      "source": [
        "# Количество эпох\n",
        "epochs = 10\n",
        "# Размер мини-выборки\n",
        "batch_size = 128\n",
        "# Количество изображений для обучения\n",
        "nb_train_samples = 7994\n",
        "# Количество изображений для проверки\n",
        "nb_validation_samples = 3998\n",
        "# Количество изображений для тестирования\n",
        "nb_test_samples = 2000"
      ],
      "execution_count": null,
      "outputs": []
    },
    {
      "cell_type": "code",
      "metadata": {
        "id": "rGLYRgU9Kqtv"
      },
      "source": [
        "datagen = ImageDataGenerator(rescale=1. / 255)"
      ],
      "execution_count": null,
      "outputs": []
    },
    {
      "cell_type": "code",
      "metadata": {
        "id": "OyMzWW5mKrfV",
        "colab": {
          "base_uri": "https://localhost:8080/"
        },
        "outputId": "8fc38221-2eea-45c2-e2d9-dd6406303ce9"
      },
      "source": [
        "train_generator = datagen.flow_from_directory(\n",
        "    train_dir,\n",
        "    target_size=(img_width, img_height),\n",
        "    batch_size=batch_size,\n",
        "    class_mode='categorical',\n",
        "    shuffle = False)"
      ],
      "execution_count": null,
      "outputs": [
        {
          "output_type": "stream",
          "text": [
            "Found 8422 images belonging to 2 classes.\n"
          ],
          "name": "stdout"
        }
      ]
    },
    {
      "cell_type": "code",
      "metadata": {
        "id": "FDFLg99WKr6Q",
        "colab": {
          "base_uri": "https://localhost:8080/"
        },
        "outputId": "2fdaa0a8-6f40-4ff5-e590-ba8b4507f4ac"
      },
      "source": [
        "val_generator = datagen.flow_from_directory(\n",
        "    val_dir,\n",
        "    target_size=(img_width, img_height),\n",
        "    batch_size=batch_size,\n",
        "    class_mode='categorical',\n",
        "    shuffle = False)"
      ],
      "execution_count": null,
      "outputs": [
        {
          "output_type": "stream",
          "text": [
            "Found 4200 images belonging to 2 classes.\n"
          ],
          "name": "stdout"
        }
      ]
    },
    {
      "cell_type": "code",
      "metadata": {
        "id": "p-PwOythKsIl",
        "colab": {
          "base_uri": "https://localhost:8080/"
        },
        "outputId": "66d5a0e9-16c7-445d-9748-0fe88de61d0c"
      },
      "source": [
        "test_generator = datagen.flow_from_directory(\n",
        "    test_dir,\n",
        "    target_size=(img_width, img_height),\n",
        "    batch_size=batch_size,\n",
        "    class_mode='categorical')"
      ],
      "execution_count": null,
      "outputs": [
        {
          "output_type": "stream",
          "text": [
            "Found 2000 images belonging to 2 classes.\n"
          ],
          "name": "stdout"
        }
      ]
    },
    {
      "cell_type": "code",
      "metadata": {
        "id": "OnI457di7Mre"
      },
      "source": [
        "model = Sequential([\n",
        "    Conv2D(32, (3,3), activation='relu', padding= 'same', input_shape= input_shape ),\n",
        "    MaxPooling2D(2, 2),\n",
        "\n",
        "    Conv2D(64, (3,3), padding= 'same', activation='relu'),\n",
        "    MaxPooling2D(2,2),\n",
        "\n",
        "    Conv2D(128, (3,3), padding = 'same', activation='relu'),\n",
        "    MaxPooling2D(2,2),\n",
        "\n",
        "    Flatten(),\n",
        "    Dense(256, activation='relu'),\n",
        "    Dropout(0.2),\n",
        "    Dense(2, activation= 'softmax')\n",
        "])"
      ],
      "execution_count": null,
      "outputs": []
    },
    {
      "cell_type": "code",
      "metadata": {
        "id": "N1ccwkZn8T_D"
      },
      "source": [
        "model.compile(optimizer='adam',\n",
        "              loss='categorical_crossentropy',\n",
        "              metrics=['accuracy'])"
      ],
      "execution_count": null,
      "outputs": []
    },
    {
      "cell_type": "code",
      "metadata": {
        "id": "g0hLJ-1EKslh",
        "colab": {
          "base_uri": "https://localhost:8080/"
        },
        "outputId": "b2669615-c848-4c74-e379-a4458ea37543"
      },
      "source": [
        "model.summary()"
      ],
      "execution_count": null,
      "outputs": [
        {
          "output_type": "stream",
          "text": [
            "Model: \"sequential\"\n",
            "_________________________________________________________________\n",
            "Layer (type)                 Output Shape              Param #   \n",
            "=================================================================\n",
            "conv2d (Conv2D)              (None, 432, 288, 32)      896       \n",
            "_________________________________________________________________\n",
            "max_pooling2d (MaxPooling2D) (None, 216, 144, 32)      0         \n",
            "_________________________________________________________________\n",
            "conv2d_1 (Conv2D)            (None, 216, 144, 64)      18496     \n",
            "_________________________________________________________________\n",
            "max_pooling2d_1 (MaxPooling2 (None, 108, 72, 64)       0         \n",
            "_________________________________________________________________\n",
            "conv2d_2 (Conv2D)            (None, 108, 72, 128)      73856     \n",
            "_________________________________________________________________\n",
            "max_pooling2d_2 (MaxPooling2 (None, 54, 36, 128)       0         \n",
            "_________________________________________________________________\n",
            "flatten (Flatten)            (None, 248832)            0         \n",
            "_________________________________________________________________\n",
            "dense (Dense)                (None, 256)               63701248  \n",
            "_________________________________________________________________\n",
            "dropout (Dropout)            (None, 256)               0         \n",
            "_________________________________________________________________\n",
            "dense_1 (Dense)              (None, 2)                 514       \n",
            "=================================================================\n",
            "Total params: 63,795,010\n",
            "Trainable params: 63,795,010\n",
            "Non-trainable params: 0\n",
            "_________________________________________________________________\n"
          ],
          "name": "stdout"
        }
      ]
    },
    {
      "cell_type": "code",
      "metadata": {
        "id": "ZECBTcvqXTDB",
        "colab": {
          "base_uri": "https://localhost:8080/"
        },
        "outputId": "7e4fbe45-bdd1-4bad-9a5d-b542385ba66d"
      },
      "source": [
        "classes = train_generator.class_indices    \n",
        "print(classes)"
      ],
      "execution_count": null,
      "outputs": [
        {
          "output_type": "stream",
          "text": [
            "{'eng': 0, 'ru': 1}\n"
          ],
          "name": "stdout"
        }
      ]
    },
    {
      "cell_type": "code",
      "metadata": {
        "id": "JcITSf_-K1cQ",
        "colab": {
          "base_uri": "https://localhost:8080/"
        },
        "outputId": "6ae0e13f-3141-4eed-ce38-fa1771e75419"
      },
      "source": [
        "history = model.fit_generator( \n",
        "    train_generator,\n",
        "    steps_per_epoch=nb_train_samples // batch_size,\n",
        "    epochs=epochs,\n",
        "    validation_data=val_generator,\n",
        "    validation_steps=nb_validation_samples // batch_size)"
      ],
      "execution_count": null,
      "outputs": [
        {
          "output_type": "stream",
          "text": [
            "WARNING:tensorflow:From <ipython-input-15-979faec58c31>:6: Model.fit_generator (from tensorflow.python.keras.engine.training) is deprecated and will be removed in a future version.\n",
            "Instructions for updating:\n",
            "Please use Model.fit, which supports generators.\n",
            "Epoch 1/10\n",
            "62/62 [==============================] - 2645s 43s/step - loss: 4.0591 - accuracy: 0.4906 - val_loss: 0.7617 - val_accuracy: 0.4708\n",
            "Epoch 2/10\n",
            "62/62 [==============================] - 2097s 34s/step - loss: 0.7416 - accuracy: 0.4938 - val_loss: 0.6926 - val_accuracy: 0.4708\n",
            "Epoch 3/10\n",
            "62/62 [==============================] - 2092s 34s/step - loss: 0.6873 - accuracy: 0.5557 - val_loss: 0.6749 - val_accuracy: 0.6106\n",
            "Epoch 4/10\n",
            "62/62 [==============================] - 2095s 34s/step - loss: 0.6252 - accuracy: 0.6796 - val_loss: 0.8607 - val_accuracy: 0.4708\n",
            "Epoch 5/10\n",
            "62/62 [==============================] - 2088s 34s/step - loss: 0.6840 - accuracy: 0.6101 - val_loss: 0.6296 - val_accuracy: 0.7009\n",
            "Epoch 6/10\n",
            "62/62 [==============================] - 2106s 34s/step - loss: 0.5664 - accuracy: 0.7585 - val_loss: 0.6785 - val_accuracy: 0.5980\n",
            "Epoch 7/10\n",
            "62/62 [==============================] - 2085s 34s/step - loss: 0.5962 - accuracy: 0.6832 - val_loss: 0.5584 - val_accuracy: 0.7608\n",
            "Epoch 8/10\n",
            "62/62 [==============================] - 2095s 34s/step - loss: 0.4791 - accuracy: 0.7807 - val_loss: 0.5083 - val_accuracy: 0.7621\n",
            "Epoch 9/10\n",
            "62/62 [==============================] - 2111s 34s/step - loss: 0.6509 - accuracy: 0.7144 - val_loss: 0.5050 - val_accuracy: 0.7644\n",
            "Epoch 10/10\n",
            "62/62 [==============================] - 2102s 34s/step - loss: 0.4490 - accuracy: 0.8011 - val_loss: 0.4727 - val_accuracy: 0.7760\n"
          ],
          "name": "stdout"
        }
      ]
    },
    {
      "cell_type": "code",
      "metadata": {
        "id": "-IYEbp9aK3MC",
        "colab": {
          "base_uri": "https://localhost:8080/",
          "height": 300
        },
        "outputId": "0d675516-daa5-41c0-b686-e4b04217718b"
      },
      "source": [
        "plt.plot(history.history['accuracy'], label='accuracy')\n",
        "plt.plot(history.history['val_accuracy'], label = 'val_accuracy')\n",
        "plt.xlabel('Epoch')\n",
        "plt.ylabel('Accuracy')\n",
        "plt.ylim([0.5, 1])\n",
        "plt.legend(loc='lower right')\n"
      ],
      "execution_count": null,
      "outputs": [
        {
          "output_type": "execute_result",
          "data": {
            "text/plain": [
              "<matplotlib.legend.Legend at 0x7f6a7c44aba8>"
            ]
          },
          "metadata": {
            "tags": []
          },
          "execution_count": 16
        },
        {
          "output_type": "display_data",
          "data": {
            "image/png": "[encoded data removed]",
            "text/plain": [
              "<Figure size 432x288 with 1 Axes>"
            ]
          },
          "metadata": {
            "tags": []
          }
        }
      ]
    },
    {
      "cell_type": "code",
      "metadata": {
        "id": "q-_X1f1WK4r6",
        "colab": {
          "base_uri": "https://localhost:8080/"
        },
        "outputId": "012a9d78-eee6-4258-8877-78da24bdf7e5"
      },
      "source": [
        "model.save('/content/gdrive/My Drive/CNN_fixed')"
      ],
      "execution_count": null,
      "outputs": [
        {
          "output_type": "stream",
          "text": [
            "WARNING:tensorflow:From /usr/local/lib/python3.6/dist-packages/tensorflow/python/training/tracking/tracking.py:111: Model.state_updates (from tensorflow.python.keras.engine.training) is deprecated and will be removed in a future version.\n",
            "Instructions for updating:\n",
            "This property should not be used in TensorFlow 2.0, as updates are applied automatically.\n",
            "WARNING:tensorflow:From /usr/local/lib/python3.6/dist-packages/tensorflow/python/training/tracking/tracking.py:111: Layer.updates (from tensorflow.python.keras.engine.base_layer) is deprecated and will be removed in a future version.\n",
            "Instructions for updating:\n",
            "This property should not be used in TensorFlow 2.0, as updates are applied automatically.\n",
            "INFO:tensorflow:Assets written to: /content/gdrive/My Drive/CNN_fixed/assets\n"
          ],
          "name": "stdout"
        }
      ]
    },
    {
      "cell_type": "code",
      "metadata": {
        "id": "mBUIGZ-Uaesh"
      },
      "source": [
        "model = load_model('/content/gdrive/My Drive/CNN_fixed')"
      ],
      "execution_count": null,
      "outputs": []
    },
    {
      "cell_type": "code",
      "metadata": {
        "id": "mbnvrGqFEr2d",
        "colab": {
          "base_uri": "https://localhost:8080/"
        },
        "outputId": "1c56194b-b912-42b9-b24c-d758a7a6ffdb"
      },
      "source": [
        "history2 = model.fit_generator( \n",
        "    train_generator,\n",
        "    steps_per_epoch=nb_train_samples // batch_size,\n",
        "    epochs=epochs,\n",
        "    validation_data=val_generator,\n",
        "    validation_steps=nb_validation_samples // batch_size)"
      ],
      "execution_count": null,
      "outputs": [
        {
          "output_type": "stream",
          "text": [
            "Epoch 1/10\n",
            "62/62 [==============================] - 7184s 116s/step - loss: 0.4358 - accuracy: 0.8000 - val_loss: 0.4489 - val_accuracy: 0.7795\n",
            "Epoch 2/10\n",
            "62/62 [==============================] - 2306s 37s/step - loss: 0.3918 - accuracy: 0.8231 - val_loss: 0.4104 - val_accuracy: 0.8039\n",
            "Epoch 3/10\n",
            "62/62 [==============================] - 2145s 35s/step - loss: 0.3965 - accuracy: 0.8197 - val_loss: 0.3893 - val_accuracy: 0.8203\n",
            "Epoch 4/10\n",
            "62/62 [==============================] - 2152s 35s/step - loss: 0.3692 - accuracy: 0.8310 - val_loss: 0.4435 - val_accuracy: 0.7681\n",
            "Epoch 5/10\n",
            "62/62 [==============================] - 2140s 35s/step - loss: 0.3784 - accuracy: 0.8298 - val_loss: 0.3867 - val_accuracy: 0.8196\n",
            "Epoch 6/10\n",
            "62/62 [==============================] - 2167s 35s/step - loss: 0.3398 - accuracy: 0.8516 - val_loss: 0.3848 - val_accuracy: 0.8251\n",
            "Epoch 7/10\n",
            "62/62 [==============================] - 2150s 35s/step - loss: 0.3270 - accuracy: 0.8485 - val_loss: 0.3612 - val_accuracy: 0.8392\n",
            "Epoch 8/10\n",
            "62/62 [==============================] - 2159s 35s/step - loss: 0.2671 - accuracy: 0.8882 - val_loss: 0.3329 - val_accuracy: 0.8551\n",
            "Epoch 9/10\n",
            "62/62 [==============================] - 2162s 35s/step - loss: 0.2584 - accuracy: 0.8869 - val_loss: 0.3475 - val_accuracy: 0.8463\n",
            "Epoch 10/10\n",
            "62/62 [==============================] - 2165s 35s/step - loss: 0.2307 - accuracy: 0.9075 - val_loss: 0.9104 - val_accuracy: 0.6880\n"
          ],
          "name": "stdout"
        }
      ]
    },
    {
      "cell_type": "code",
      "metadata": {
        "id": "v0T_Id2IEyZE",
        "colab": {
          "base_uri": "https://localhost:8080/",
          "height": 231
        },
        "outputId": "51f99c1a-c801-49b4-e1af-73b282a36c41"
      },
      "source": [
        "plt.plot(history.history['accuracy'], label='accuracy')\n",
        "plt.plot(history.history['val_accuracy'], label = 'val_accuracy')\n",
        "plt.xlabel('Epoch')\n",
        "plt.ylabel('Accuracy')\n",
        "plt.ylim([0.5, 1])\n",
        "plt.legend(loc='lower right')"
      ],
      "execution_count": null,
      "outputs": [
        {
          "output_type": "error",
          "ename": "NameError",
          "evalue": "ignored",
          "traceback": [
            "\u001b[0;31m---------------------------------------------------------------------------\u001b[0m",
            "\u001b[0;31mNameError\u001b[0m                                 Traceback (most recent call last)",
            "\u001b[0;32m<ipython-input-14-eaeb40ec4f7d>\u001b[0m in \u001b[0;36m<module>\u001b[0;34m()\u001b[0m\n\u001b[0;32m----> 1\u001b[0;31m \u001b[0mplt\u001b[0m\u001b[0;34m.\u001b[0m\u001b[0mplot\u001b[0m\u001b[0;34m(\u001b[0m\u001b[0mhistory\u001b[0m\u001b[0;34m.\u001b[0m\u001b[0mhistory\u001b[0m\u001b[0;34m[\u001b[0m\u001b[0;34m'accuracy'\u001b[0m\u001b[0;34m]\u001b[0m\u001b[0;34m,\u001b[0m \u001b[0mlabel\u001b[0m\u001b[0;34m=\u001b[0m\u001b[0;34m'accuracy'\u001b[0m\u001b[0;34m)\u001b[0m\u001b[0;34m\u001b[0m\u001b[0;34m\u001b[0m\u001b[0m\n\u001b[0m\u001b[1;32m      2\u001b[0m \u001b[0mplt\u001b[0m\u001b[0;34m.\u001b[0m\u001b[0mplot\u001b[0m\u001b[0;34m(\u001b[0m\u001b[0mhistory\u001b[0m\u001b[0;34m.\u001b[0m\u001b[0mhistory\u001b[0m\u001b[0;34m[\u001b[0m\u001b[0;34m'val_accuracy'\u001b[0m\u001b[0;34m]\u001b[0m\u001b[0;34m,\u001b[0m \u001b[0mlabel\u001b[0m \u001b[0;34m=\u001b[0m \u001b[0;34m'val_accuracy'\u001b[0m\u001b[0;34m)\u001b[0m\u001b[0;34m\u001b[0m\u001b[0;34m\u001b[0m\u001b[0m\n\u001b[1;32m      3\u001b[0m \u001b[0mplt\u001b[0m\u001b[0;34m.\u001b[0m\u001b[0mxlabel\u001b[0m\u001b[0;34m(\u001b[0m\u001b[0;34m'Epoch'\u001b[0m\u001b[0;34m)\u001b[0m\u001b[0;34m\u001b[0m\u001b[0;34m\u001b[0m\u001b[0m\n\u001b[1;32m      4\u001b[0m \u001b[0mplt\u001b[0m\u001b[0;34m.\u001b[0m\u001b[0mylabel\u001b[0m\u001b[0;34m(\u001b[0m\u001b[0;34m'Accuracy'\u001b[0m\u001b[0;34m)\u001b[0m\u001b[0;34m\u001b[0m\u001b[0;34m\u001b[0m\u001b[0m\n\u001b[1;32m      5\u001b[0m \u001b[0mplt\u001b[0m\u001b[0;34m.\u001b[0m\u001b[0mylim\u001b[0m\u001b[0;34m(\u001b[0m\u001b[0;34m[\u001b[0m\u001b[0;36m0.5\u001b[0m\u001b[0;34m,\u001b[0m \u001b[0;36m1\u001b[0m\u001b[0;34m]\u001b[0m\u001b[0;34m)\u001b[0m\u001b[0;34m\u001b[0m\u001b[0;34m\u001b[0m\u001b[0m\n",
            "\u001b[0;31mNameError\u001b[0m: name 'plt' is not defined"
          ]
        }
      ]
    },
    {
      "cell_type": "code",
      "metadata": {
        "id": "QS3LY_QJFFDh",
        "colab": {
          "base_uri": "https://localhost:8080/",
          "height": 300
        },
        "outputId": "815dfac2-e49c-463c-fe71-6d14684c8b6f"
      },
      "source": [
        "plt.plot(history2.history['accuracy'], label='accuracy')\n",
        "plt.plot(history2.history['val_accuracy'], label = 'val_accuracy')\n",
        "plt.xlabel('Epoch')\n",
        "plt.ylabel('Accuracy')\n",
        "plt.ylim([0.5, 1])\n",
        "plt.legend(loc='lower right')"
      ],
      "execution_count": null,
      "outputs": [
        {
          "output_type": "execute_result",
          "data": {
            "text/plain": [
              "<matplotlib.legend.Legend at 0x7fa8c8d3b320>"
            ]
          },
          "metadata": {
            "tags": []
          },
          "execution_count": 18
        },
        {
          "output_type": "display_data",
          "data": {
            "image/png": "[encoded data removed]",
            "text/plain": [
              "<Figure size 432x288 with 1 Axes>"
            ]
          },
          "metadata": {
            "tags": []
          }
        }
      ]
    },
    {
      "cell_type": "code",
      "metadata": {
        "id": "6o2zksIeE0n0",
        "colab": {
          "base_uri": "https://localhost:8080/"
        },
        "outputId": "f8082d62-2a30-437b-e2d0-09fdb8543e28"
      },
      "source": [
        "model.save('/content/gdrive/My Drive/CNN_fixed_20ep')"
      ],
      "execution_count": null,
      "outputs": [
        {
          "output_type": "stream",
          "text": [
            "WARNING:tensorflow:From /usr/local/lib/python3.6/dist-packages/tensorflow/python/training/tracking/tracking.py:111: Model.state_updates (from tensorflow.python.keras.engine.training) is deprecated and will be removed in a future version.\n",
            "Instructions for updating:\n",
            "This property should not be used in TensorFlow 2.0, as updates are applied automatically.\n",
            "WARNING:tensorflow:From /usr/local/lib/python3.6/dist-packages/tensorflow/python/training/tracking/tracking.py:111: Layer.updates (from tensorflow.python.keras.engine.base_layer) is deprecated and will be removed in a future version.\n",
            "Instructions for updating:\n",
            "This property should not be used in TensorFlow 2.0, as updates are applied automatically.\n",
            "INFO:tensorflow:Assets written to: /content/gdrive/My Drive/CNN_fixed_20ep/assets\n"
          ],
          "name": "stdout"
        }
      ]
    },
    {
      "cell_type": "code",
      "metadata": {
        "id": "zJoJTsFYhLV4"
      },
      "source": [
        "model = load_model('/content/gdrive/My Drive/CNN_fixed_20ep')"
      ],
      "execution_count": null,
      "outputs": []
    },
    {
      "cell_type": "code",
      "metadata": {
        "id": "19YabUDHhOSa",
        "colab": {
          "base_uri": "https://localhost:8080/"
        },
        "outputId": "0d3d1789-c437-4a39-fd91-3b292efb5ff6"
      },
      "source": [
        "history3 = model.fit_generator( \n",
        "    train_generator,\n",
        "    steps_per_epoch=nb_train_samples // batch_size,\n",
        "    epochs=epochs,\n",
        "    validation_data=val_generator,\n",
        "    validation_steps=nb_validation_samples // batch_size)"
      ],
      "execution_count": null,
      "outputs": [
        {
          "output_type": "stream",
          "text": [
            "Epoch 1/10\n",
            "62/62 [==============================] - 3835s 62s/step - loss: 0.2676 - accuracy: 0.8895 - val_loss: 0.3291 - val_accuracy: 0.8619\n",
            "Epoch 2/10\n",
            "62/62 [==============================] - 2201s 35s/step - loss: 0.1927 - accuracy: 0.9240 - val_loss: 0.3197 - val_accuracy: 0.8621\n",
            "Epoch 3/10\n",
            "62/62 [==============================] - 2181s 35s/step - loss: 0.2025 - accuracy: 0.9137 - val_loss: 0.3138 - val_accuracy: 0.8657\n",
            "Epoch 4/10\n",
            "62/62 [==============================] - 2209s 36s/step - loss: 0.2056 - accuracy: 0.9135 - val_loss: 0.4274 - val_accuracy: 0.8480\n",
            "Epoch 5/10\n",
            "62/62 [==============================] - 2216s 36s/step - loss: 0.5027 - accuracy: 0.7598 - val_loss: 0.5111 - val_accuracy: 0.7497\n",
            "Epoch 6/10\n",
            "62/62 [==============================] - 2193s 35s/step - loss: 0.3265 - accuracy: 0.8537 - val_loss: 0.3467 - val_accuracy: 0.8601\n",
            "Epoch 7/10\n",
            "62/62 [==============================] - 2209s 36s/step - loss: 0.1828 - accuracy: 0.9271 - val_loss: 0.3479 - val_accuracy: 0.8627\n",
            "Epoch 8/10\n",
            "62/62 [==============================] - 2190s 35s/step - loss: 0.1464 - accuracy: 0.9405 - val_loss: 0.3096 - val_accuracy: 0.8926\n",
            "Epoch 9/10\n",
            "62/62 [==============================] - 2213s 36s/step - loss: 0.4252 - accuracy: 0.8484 - val_loss: 0.4567 - val_accuracy: 0.8029\n",
            "Epoch 10/10\n",
            "62/62 [==============================] - 2200s 35s/step - loss: 0.3822 - accuracy: 0.8351 - val_loss: 0.5014 - val_accuracy: 0.7535\n"
          ],
          "name": "stdout"
        }
      ]
    },
    {
      "cell_type": "code",
      "metadata": {
        "id": "_Wgm1oDPhZVM",
        "colab": {
          "base_uri": "https://localhost:8080/",
          "height": 298
        },
        "outputId": "ac34a87e-886b-4e84-e54f-50aeaf31b4ae"
      },
      "source": [
        "plt.plot(history3.history['accuracy'], label='accuracy')\n",
        "plt.plot(history3.history['val_accuracy'], label = 'val_accuracy')\n",
        "plt.xlabel('Epoch')\n",
        "plt.ylabel('Accuracy')\n",
        "plt.ylim([0.5, 1])\n",
        "plt.legend(loc='lower right')"
      ],
      "execution_count": null,
      "outputs": [
        {
          "output_type": "execute_result",
          "data": {
            "text/plain": [
              "<matplotlib.legend.Legend at 0x7f2895de6518>"
            ]
          },
          "metadata": {
            "tags": []
          },
          "execution_count": 16
        },
        {
          "output_type": "display_data",
          "data": {
            "image/png": "[encoded data removed]",
            "text/plain": [
              "<Figure size 432x288 with 1 Axes>"
            ]
          },
          "metadata": {
            "tags": [],
            "needs_background": "light"
          }
        }
      ]
    },
    {
      "cell_type": "code",
      "metadata": {
        "id": "Bf_Es8vahgDc",
        "colab": {
          "base_uri": "https://localhost:8080/"
        },
        "outputId": "5c554b04-97c3-4ce9-908b-8d64fbfc765f"
      },
      "source": [
        "model.save('/content/gdrive/My Drive/CNN_fixed_30ep')"
      ],
      "execution_count": null,
      "outputs": [
        {
          "output_type": "stream",
          "text": [
            "WARNING:tensorflow:From /usr/local/lib/python3.6/dist-packages/tensorflow/python/training/tracking/tracking.py:111: Model.state_updates (from tensorflow.python.keras.engine.training) is deprecated and will be removed in a future version.\n",
            "Instructions for updating:\n",
            "This property should not be used in TensorFlow 2.0, as updates are applied automatically.\n",
            "WARNING:tensorflow:From /usr/local/lib/python3.6/dist-packages/tensorflow/python/training/tracking/tracking.py:111: Layer.updates (from tensorflow.python.keras.engine.base_layer) is deprecated and will be removed in a future version.\n",
            "Instructions for updating:\n",
            "This property should not be used in TensorFlow 2.0, as updates are applied automatically.\n",
            "INFO:tensorflow:Assets written to: /content/gdrive/My Drive/CNN_fixed_30ep/assets\n"
          ],
          "name": "stdout"
        }
      ]
    },
    {
      "cell_type": "code",
      "metadata": {
        "id": "zzr-i0y15TET"
      },
      "source": [
        "model = load_model('/content/gdrive/My Drive/CNN_fixed_30ep')"
      ],
      "execution_count": null,
      "outputs": []
    },
    {
      "cell_type": "code",
      "metadata": {
        "id": "NKJG7AQ55adC",
        "colab": {
          "base_uri": "https://localhost:8080/"
        },
        "outputId": "512c768a-de74-45de-90ac-2f4e56e45449"
      },
      "source": [
        "history4 = model.fit_generator( \n",
        "    train_generator,\n",
        "    steps_per_epoch=nb_train_samples // batch_size,\n",
        "    epochs=epochs,\n",
        "    validation_data=val_generator,\n",
        "    validation_steps=nb_validation_samples // batch_size)"
      ],
      "execution_count": null,
      "outputs": [
        {
          "output_type": "stream",
          "text": [
            "WARNING:tensorflow:From <ipython-input-15-8b0c80128fb9>:6: Model.fit_generator (from tensorflow.python.keras.engine.training) is deprecated and will be removed in a future version.\n",
            "Instructions for updating:\n",
            "Please use Model.fit, which supports generators.\n",
            "Epoch 1/10\n",
            "62/62 [==============================] - 3837s 62s/step - loss: 0.2984 - accuracy: 0.8722 - val_loss: 0.4181 - val_accuracy: 0.8614\n",
            "Epoch 2/10\n",
            "62/62 [==============================] - 2141s 35s/step - loss: 0.1604 - accuracy: 0.9336 - val_loss: 0.3965 - val_accuracy: 0.8758\n",
            "Epoch 3/10\n",
            "62/62 [==============================] - 2101s 34s/step - loss: 0.1200 - accuracy: 0.9501 - val_loss: 0.4192 - val_accuracy: 0.8790\n",
            "Epoch 4/10\n",
            "62/62 [==============================] - 2106s 34s/step - loss: 0.1047 - accuracy: 0.9564 - val_loss: 0.4101 - val_accuracy: 0.8884\n",
            "Epoch 5/10\n",
            "62/62 [==============================] - 2110s 34s/step - loss: 0.1001 - accuracy: 0.9612 - val_loss: 0.3700 - val_accuracy: 0.8919\n",
            "Epoch 6/10\n",
            "62/62 [==============================] - 2133s 34s/step - loss: 0.0842 - accuracy: 0.9647 - val_loss: 0.4005 - val_accuracy: 0.8901\n",
            "Epoch 7/10\n",
            "62/62 [==============================] - 2116s 34s/step - loss: 0.0664 - accuracy: 0.9718 - val_loss: 0.4615 - val_accuracy: 0.8896\n",
            "Epoch 8/10\n",
            "62/62 [==============================] - 2128s 34s/step - loss: 0.0768 - accuracy: 0.9694 - val_loss: 0.4361 - val_accuracy: 0.8969\n",
            "Epoch 9/10\n",
            "62/62 [==============================] - 2129s 34s/step - loss: 0.0505 - accuracy: 0.9793 - val_loss: 0.4166 - val_accuracy: 0.9017\n",
            "Epoch 10/10\n",
            "62/62 [==============================] - 2142s 35s/step - loss: 0.0396 - accuracy: 0.9827 - val_loss: 0.4579 - val_accuracy: 0.8992\n"
          ],
          "name": "stdout"
        }
      ]
    },
    {
      "cell_type": "code",
      "metadata": {
        "id": "YTYiZ_Pt5neV",
        "colab": {
          "base_uri": "https://localhost:8080/",
          "height": 298
        },
        "outputId": "9ce1057c-8d41-4b79-deae-05360c76909d"
      },
      "source": [
        "plt.plot(history4.history['accuracy'], label='accuracy')\n",
        "plt.plot(history4.history['val_accuracy'], label = 'val_accuracy')\n",
        "plt.xlabel('Epoch')\n",
        "plt.ylabel('Accuracy')\n",
        "plt.ylim([0.5, 1])\n",
        "plt.legend(loc='lower right')"
      ],
      "execution_count": null,
      "outputs": [
        {
          "output_type": "execute_result",
          "data": {
            "text/plain": [
              "<matplotlib.legend.Legend at 0x7f9a0ee95240>"
            ]
          },
          "metadata": {
            "tags": []
          },
          "execution_count": 16
        },
        {
          "output_type": "display_data",
          "data": {
            "image/png": "[encoded data removed]",
            "text/plain": [
              "<Figure size 432x288 with 1 Axes>"
            ]
          },
          "metadata": {
            "tags": [],
            "needs_background": "light"
          }
        }
      ]
    },
    {
      "cell_type": "code",
      "metadata": {
        "id": "A6S1yI455rYJ",
        "colab": {
          "base_uri": "https://localhost:8080/"
        },
        "outputId": "c2a8cf35-17c4-4d12-9e7a-ee2bf57ca2c7"
      },
      "source": [
        "model.save('/content/gdrive/My Drive/CNN_fixed_40ep')"
      ],
      "execution_count": null,
      "outputs": [
        {
          "output_type": "stream",
          "text": [
            "WARNING:tensorflow:From /usr/local/lib/python3.6/dist-packages/tensorflow/python/training/tracking/tracking.py:111: Model.state_updates (from tensorflow.python.keras.engine.training) is deprecated and will be removed in a future version.\n",
            "Instructions for updating:\n",
            "This property should not be used in TensorFlow 2.0, as updates are applied automatically.\n",
            "WARNING:tensorflow:From /usr/local/lib/python3.6/dist-packages/tensorflow/python/training/tracking/tracking.py:111: Layer.updates (from tensorflow.python.keras.engine.base_layer) is deprecated and will be removed in a future version.\n",
            "Instructions for updating:\n",
            "This property should not be used in TensorFlow 2.0, as updates are applied automatically.\n",
            "INFO:tensorflow:Assets written to: /content/gdrive/My Drive/CNN_fixed_40ep/assets\n"
          ],
          "name": "stdout"
        }
      ]
    },
    {
      "cell_type": "markdown",
      "metadata": {
        "id": "ysOpY4rV5ujJ"
      },
      "source": [
        ""
      ]
    },
    {
      "cell_type": "code",
      "metadata": {
        "id": "YYGFqiwnOVW-",
        "colab": {
          "base_uri": "https://localhost:8080/"
        },
        "outputId": "8e95d667-330f-48f1-d55a-ecd40e89700b"
      },
      "source": [
        "scores = model.evaluate(test_generator, verbose=0)\n",
        "print(\"Точность работы на тестовых данных: %.2f%%\" % (scores[1]*100))"
      ],
      "execution_count": null,
      "outputs": [
        {
          "output_type": "stream",
          "text": [
            "Точность работы на тестовых данных: 38.25%\n"
          ],
          "name": "stdout"
        }
      ]
    },
    {
      "cell_type": "code",
      "metadata": {
        "id": "07JutVkkcyTQ",
        "colab": {
          "base_uri": "https://localhost:8080/",
          "height": 350
        },
        "outputId": "bd0375f1-c8e8-4366-9afc-26abc16e8f97"
      },
      "source": [
        "def load_image(img_path, show=False):\n",
        "\n",
        "    img = image.load_img(img_path, target_size=(432, 288), color_mode= 'rgb')\n",
        "    img_tensor = image.img_to_array(img)                    # (height, width, channels)\n",
        "    img_tensor = np.expand_dims(img_tensor, axis=0)         # (1, height, width, channels), add a dimension because the model expects this shape: (batch_size, height, width, channels)\n",
        "    img_tensor /= 255.                                      # imshow expects values in the range [0, 1]\n",
        "\n",
        "    if show:\n",
        "        plt.imshow(img_tensor[0])                           \n",
        "        plt.axis('off')\n",
        "        plt.show()\n",
        "\n",
        "    return img_tensor\n",
        "\n",
        "\n",
        "if __name__ == \"__main__\": \n",
        "\n",
        "    # image path\n",
        "    img_path = '/content/gdrive/My Drive/train/2/2092-145709-0014.jpg'\n",
        " \n",
        "  \n",
        "    # load a single image\n",
        "    new_image = load_image(img_path)\n",
        "\n",
        "    # check prediction\n",
        "    pred = model.predict(new_image)"
      ],
      "execution_count": null,
      "outputs": [
        {
          "output_type": "error",
          "ename": "NameError",
          "evalue": "ignored",
          "traceback": [
            "\u001b[0;31m---------------------------------------------------------------------------\u001b[0m",
            "\u001b[0;31mNameError\u001b[0m                                 Traceback (most recent call last)",
            "\u001b[0;32m<ipython-input-2-3a05d5e47582>\u001b[0m in \u001b[0;36m<module>\u001b[0;34m()\u001b[0m\n\u001b[1;32m     21\u001b[0m \u001b[0;34m\u001b[0m\u001b[0m\n\u001b[1;32m     22\u001b[0m     \u001b[0;31m# load a single image\u001b[0m\u001b[0;34m\u001b[0m\u001b[0;34m\u001b[0m\u001b[0;34m\u001b[0m\u001b[0m\n\u001b[0;32m---> 23\u001b[0;31m     \u001b[0mnew_image\u001b[0m \u001b[0;34m=\u001b[0m \u001b[0mload_image\u001b[0m\u001b[0;34m(\u001b[0m\u001b[0mimg_path\u001b[0m\u001b[0;34m)\u001b[0m\u001b[0;34m\u001b[0m\u001b[0;34m\u001b[0m\u001b[0m\n\u001b[0m\u001b[1;32m     24\u001b[0m \u001b[0;34m\u001b[0m\u001b[0m\n\u001b[1;32m     25\u001b[0m     \u001b[0;31m# check prediction\u001b[0m\u001b[0;34m\u001b[0m\u001b[0;34m\u001b[0m\u001b[0;34m\u001b[0m\u001b[0m\n",
            "\u001b[0;32m<ipython-input-2-3a05d5e47582>\u001b[0m in \u001b[0;36mload_image\u001b[0;34m(img_path, show)\u001b[0m\n\u001b[1;32m      1\u001b[0m \u001b[0;32mdef\u001b[0m \u001b[0mload_image\u001b[0m\u001b[0;34m(\u001b[0m\u001b[0mimg_path\u001b[0m\u001b[0;34m,\u001b[0m \u001b[0mshow\u001b[0m\u001b[0;34m=\u001b[0m\u001b[0;32mFalse\u001b[0m\u001b[0;34m)\u001b[0m\u001b[0;34m:\u001b[0m\u001b[0;34m\u001b[0m\u001b[0;34m\u001b[0m\u001b[0m\n\u001b[1;32m      2\u001b[0m \u001b[0;34m\u001b[0m\u001b[0m\n\u001b[0;32m----> 3\u001b[0;31m     \u001b[0mimg\u001b[0m \u001b[0;34m=\u001b[0m \u001b[0mimage\u001b[0m\u001b[0;34m.\u001b[0m\u001b[0mload_img\u001b[0m\u001b[0;34m(\u001b[0m\u001b[0mimg_path\u001b[0m\u001b[0;34m,\u001b[0m \u001b[0mtarget_size\u001b[0m\u001b[0;34m=\u001b[0m\u001b[0;34m(\u001b[0m\u001b[0;36m432\u001b[0m\u001b[0;34m,\u001b[0m \u001b[0;36m288\u001b[0m\u001b[0;34m)\u001b[0m\u001b[0;34m,\u001b[0m \u001b[0mcolor_mode\u001b[0m\u001b[0;34m=\u001b[0m \u001b[0;34m'rgb'\u001b[0m\u001b[0;34m)\u001b[0m\u001b[0;34m\u001b[0m\u001b[0;34m\u001b[0m\u001b[0m\n\u001b[0m\u001b[1;32m      4\u001b[0m     \u001b[0mimg_tensor\u001b[0m \u001b[0;34m=\u001b[0m \u001b[0mimage\u001b[0m\u001b[0;34m.\u001b[0m\u001b[0mimg_to_array\u001b[0m\u001b[0;34m(\u001b[0m\u001b[0mimg\u001b[0m\u001b[0;34m)\u001b[0m                    \u001b[0;31m# (height, width, channels)\u001b[0m\u001b[0;34m\u001b[0m\u001b[0;34m\u001b[0m\u001b[0m\n\u001b[1;32m      5\u001b[0m     \u001b[0mimg_tensor\u001b[0m \u001b[0;34m=\u001b[0m \u001b[0mnp\u001b[0m\u001b[0;34m.\u001b[0m\u001b[0mexpand_dims\u001b[0m\u001b[0;34m(\u001b[0m\u001b[0mimg_tensor\u001b[0m\u001b[0;34m,\u001b[0m \u001b[0maxis\u001b[0m\u001b[0;34m=\u001b[0m\u001b[0;36m0\u001b[0m\u001b[0;34m)\u001b[0m         \u001b[0;31m# (1, height, width, channels), add a dimension because the model expects this shape: (batch_size, height, width, channels)\u001b[0m\u001b[0;34m\u001b[0m\u001b[0;34m\u001b[0m\u001b[0m\n",
            "\u001b[0;31mNameError\u001b[0m: name 'image' is not defined"
          ]
        }
      ]
    },
    {
      "cell_type": "code",
      "metadata": {
        "id": "2HzaXqBgeAW2",
        "colab": {
          "base_uri": "https://localhost:8080/"
        },
        "outputId": "2f3f240d-e68c-47e9-c707-4ee4409c58bf"
      },
      "source": [
        "pred"
      ],
      "execution_count": null,
      "outputs": [
        {
          "output_type": "execute_result",
          "data": {
            "text/plain": [
              "array([[1.6914922e-07, 9.9999988e-01]], dtype=float32)"
            ]
          },
          "metadata": {
            "tags": []
          },
          "execution_count": 21
        }
      ]
    }
  ]
}